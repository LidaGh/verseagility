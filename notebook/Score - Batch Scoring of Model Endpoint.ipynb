{
 "cells": [
  {
   "cell_type": "markdown",
   "metadata": {},
   "source": [
    "# Verseagility - Score Model\n",
    "- A script to batch-score your endpoint after the deployment.\n",
    "- Set your endpoint and keys in the function below\n",
    "- Read your test data set which has a \"label\" column for the ground truth and a \"text\" column with the document to be scored"
   ]
  },
  {
   "cell_type": "code",
   "execution_count": null,
   "metadata": {},
   "outputs": [],
   "source": [
    "# Import packages\n",
    "import requests\n",
    "import pandas as pd\n",
    "import json\n",
    "from sklearn.metrics import classification_report\n",
    "from sklearn.metrics import accuracy_score\n",
    "from sklearn.metrics import confusion_matrix"
   ]
  },
  {
   "cell_type": "code",
   "execution_count": null,
   "metadata": {},
   "outputs": [],
   "source": [
    "# Change this to your format respectively\n",
    "df = pd.read_csv(\"file.csv\", sep=\";\", encoding=\"utf-8\")"
   ]
  },
  {
   "cell_type": "code",
   "execution_count": null,
   "metadata": {},
   "outputs": [],
   "source": [
    "# Endpoint settings\n",
    "endpoint = '[YOUR URL GOES HERE]'\n",
    "region = '[YOUR REGION GOES HERE]'\n",
    "key = '[YOUR KEY GOES HERE]'"
   ]
  },
  {
   "cell_type": "code",
   "execution_count": null,
   "metadata": {},
   "outputs": [],
   "source": [
    "# Model scoring function\n",
    "def scoreModel(df, endpoint, region, key):\n",
    "    # URL for the web service\n",
    "    scoring_uri = f'http://{endpoint}.{region}.azurecontainer.io/score'\n",
    "    # Set the content type\n",
    "    headers = {'Content-Type': 'application/json'}\n",
    "    # If authentication is enabled, set the authorization header\n",
    "    headers['Authorization'] = f'Bearer {key}'\n",
    "    scores = []\n",
    "    # Iterate\n",
    "    for index, row in df.iterrows():\n",
    "        data = [{\n",
    "            \"subject\": \"\",\n",
    "            \"body\": str(row['text'].replace(\"'\", \"\").replace('\"', ''))\n",
    "        }]\n",
    "        # Convert to JSON string\n",
    "        input_data = json.dumps(data)\n",
    "        # Make the request and display the response\n",
    "        resp = requests.post(scoring_uri, input_data, headers=headers)\n",
    "        try:\n",
    "            pred = json.loads(resp.text)[0]['result'][0]['category']\n",
    "        except:\n",
    "            pred = \"None\"\n",
    "        scores.append(pred)\n",
    "        print(f'[INFO] - SCORING {str(index+1)}/{len(df)} -> \"{row[\"label\"]}\" predicted as \"{pred}\"')\n",
    "    return scores"
   ]
  },
  {
   "cell_type": "code",
   "execution_count": null,
   "metadata": {},
   "outputs": [],
   "source": [
    "# Initiate the scoring\n",
    "scores = scoreModel(test, endpoint, region, key)"
   ]
  },
  {
   "cell_type": "code",
   "execution_count": null,
   "metadata": {
    "scrolled": true
   },
   "outputs": [],
   "source": [
    "# Get your classification reports after scoring\n",
    "print(classification_report(test['label'], scores))\n",
    "print(confusion_matrix(test['label'], scores))\n",
    "print(f\"Accuracy: {accuracy_score(test['label'], scores)}\")"
   ]
  },
  {
   "cell_type": "code",
   "execution_count": null,
   "metadata": {},
   "outputs": [],
   "source": [
    "# Write output to file\n",
    "scores.to_csv(\"scoring.csv\", sep=\";\")"
   ]
  }
 ],
 "metadata": {
  "kernelspec": {
   "display_name": "azureml_py36_automl",
   "language": "python",
   "name": "conda-env-azureml_py36_automl-py"
  },
  "language_info": {
   "codemirror_mode": {
    "name": "ipython",
    "version": 3
   },
   "file_extension": ".py",
   "mimetype": "text/x-python",
   "name": "python",
   "nbconvert_exporter": "python",
   "pygments_lexer": "ipython3",
   "version": "3.6.9"
  }
 },
 "nbformat": 4,
 "nbformat_minor": 2
}
