{
 "cells": [
  {
   "cell_type": "markdown",
   "metadata": {},
   "source": [
    "# Transform Pandas DF to Verseagility-JSON\n",
    "\n",
    "- Give a pandas dataframe as input with the columns \"label\" and \"text\" to bring it in the correct JSON-format\n",
    "- Just keep the other dummy variables as they are to make sure the data stays valid. You can just remove the question/answering component from your case file, so that this part does not get trained\n",
    "- You can also change the values for url, date etc. if you have a respective column in your dataset"
   ]
  },
  {
   "cell_type": "code",
   "execution_count": null,
   "metadata": {},
   "outputs": [],
   "source": [
    "# Import packages\n",
    "import pandas as pd\n",
    "import uuid\n",
    "import json"
   ]
  },
  {
   "cell_type": "code",
   "execution_count": null,
   "metadata": {},
   "outputs": [],
   "source": [
    "# Change this to your format respectively\n",
    "df = pd.read_csv(\"file.csv\", sep=\";\", encoding=\"utf-8\")"
   ]
  },
  {
   "cell_type": "code",
   "execution_count": null,
   "metadata": {},
   "outputs": [],
   "source": [
    "# Define the data transformer function\n",
    "def transformJSON(df, language):\n",
    "    with open(f\"output-{language}-train.json\", \"a\", encoding='utf-8') as file:\n",
    "        file.write(\"[\")\n",
    "    for index, row in df.iterrows():\n",
    "        fileid = uuid.uuid4().hex\n",
    "        q_views = 0\n",
    "        q_tags = row['label']\n",
    "        url = \"https://aka.ms/nlp-demo\"\n",
    "        lang = language\n",
    "\n",
    "        # PACK Q JSON\n",
    "        question = {}\n",
    "        question['title'] = \"Text\"\n",
    "        question['author'] = \"Author\"\n",
    "        question['createdAt'] = \"01 January, 2020\"\n",
    "        question['text'] = row['text']\n",
    "        question['upvotes'] = 0\n",
    "\n",
    "        # PACK A JSON\n",
    "        answer = {}\n",
    "        answer['markedAsAnswer'] = \"false\"\n",
    "        answer['createdAt'] = \"01 January, 2020\"\n",
    "        answer['text'] = \"Text\"\n",
    "        answer['upvotes'] = 0\n",
    "\n",
    "        # PACK JSON\n",
    "        data = {'question': question, 'id': fileid, 'views': q_views, 'appliesTo': q_tags, 'url': url, 'language': lang, 'answer': answer}\n",
    "        content = json.dumps(data, indent=4, separators=(',', ': '), ensure_ascii = False)\n",
    "\n",
    "        # WRITE TO JSON FILE\n",
    "        with open(f\"output-{language}-train.json\", \"a\", encoding='utf-8') as file:\n",
    "            if index == len(df) - 1:\n",
    "                file.write(content + \"]\")\n",
    "            else:\n",
    "                file.write(content + \",\")\n",
    "            print(f\"[SUCCESS] - File {fileid}\\n\")"
   ]
  },
  {
   "cell_type": "code",
   "execution_count": null,
   "metadata": {},
   "outputs": [],
   "source": [
    "# Initiate the transformation\n",
    "transformJSON(df, \"en-us\")"
   ]
  }
 ],
 "metadata": {
  "kernelspec": {
   "display_name": "azureml_py36_automl",
   "language": "python",
   "name": "conda-env-azureml_py36_automl-py"
  },
  "language_info": {
   "codemirror_mode": {
    "name": "ipython",
    "version": 3
   },
   "file_extension": ".py",
   "mimetype": "text/x-python",
   "name": "python",
   "nbconvert_exporter": "python",
   "pygments_lexer": "ipython3",
   "version": "3.6.9"
  }
 },
 "nbformat": 4,
 "nbformat_minor": 2
}