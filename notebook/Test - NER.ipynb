{
 "cells": [
  {
   "cell_type": "code",
   "execution_count": 1,
   "metadata": {},
   "outputs": [],
   "source": [
    "%load_ext autoreload\n",
    "%autoreload 2"
   ]
  },
  {
   "cell_type": "code",
   "execution_count": 2,
   "metadata": {},
   "outputs": [
    {
     "name": "stderr",
     "output_type": "stream",
     "text": [
      "I0113 15:26:41.951092  3456 file_utils.py:35] PyTorch version 1.3.1 available.\n",
      "I0113 15:26:45.606345  3456 custom.py:19] [INFO] Project Target Language **en**\n"
     ]
    }
   ],
   "source": [
    "# Custom Functions\n",
    "import sys\n",
    "sys.path.append('../code')\n",
    "import helper as he\n",
    "import ner"
   ]
  },
  {
   "cell_type": "code",
   "execution_count": 48,
   "metadata": {},
   "outputs": [
    {
     "name": "stdout",
     "output_type": "stream",
     "text": [
      "2020-01-13 18:15:32,174 loading file C:/Users/makayser/Desktop/nlp_local//en-ner-ontonotes-fast-v0.4.pt\n"
     ]
    }
   ],
   "source": [
    "nr = ner.NER()"
   ]
  },
  {
   "cell_type": "code",
   "execution_count": 45,
   "metadata": {},
   "outputs": [],
   "source": [
    "text = 'I have been using windows 7 and getting some errors with the following code 0x800700c1. What could this mean? I use windows 7 from steve ballmer'"
   ]
  },
  {
   "cell_type": "code",
   "execution_count": 49,
   "metadata": {},
   "outputs": [
    {
     "data": {
      "text/plain": [
       "[{'value': '7',\n",
       "  'start': 26,\n",
       "  'end': 27,\n",
       "  'label': 'CARDINAL',\n",
       "  'source': 'flair'},\n",
       " {'value': 'ballmer',\n",
       "  'start': 137,\n",
       "  'end': 144,\n",
       "  'label': 'PERSON',\n",
       "  'source': 'flair'},\n",
       " {'value': 'windows 7',\n",
       "  'start': 4,\n",
       "  'end': 6,\n",
       "  'label': 'Product',\n",
       "  'source': 'list'},\n",
       " {'value': 'steve ballmer',\n",
       "  'start': 26,\n",
       "  'end': 28,\n",
       "  'label': 'Boss',\n",
       "  'source': 'list'},\n",
       " {'value': '0x800700c1.',\n",
       "  'start': 76,\n",
       "  'end': 87,\n",
       "  'label': 'ERROR CODE',\n",
       "  'source': 'Regex'}]"
      ]
     },
     "execution_count": 49,
     "metadata": {},
     "output_type": "execute_result"
    }
   ],
   "source": [
    "nr.run(text)"
   ]
  },
  {
   "cell_type": "markdown",
   "metadata": {},
   "source": [
    "### SPACY"
   ]
  },
  {
   "cell_type": "code",
   "execution_count": 123,
   "metadata": {},
   "outputs": [],
   "source": [
    "import spacy\n",
    "from spacy.tokens import Span\n",
    "\n",
    "class FlairMatcher(object):\n",
    "    name = \"flair\"\n",
    "\n",
    "    def __init__(self, nlp, language):\n",
    "        self.tagger = SequenceTagger.load('ner-ontonotes-fast')\n",
    "\n",
    "    def __call__(self, doc):\n",
    "        matches = self.tagger.predict(Sentence(doc.text))\n",
    "        for match in matches[0].get_spans('ner'):\n",
    "            _match = match.to_dict()\n",
    "            span = doc.char_span(_match.get('start_pos'), _match.get('end_pos'), label=_match.get('type'))\n",
    "            doc.ents = list(doc.ents) + [span]\n",
    "        return doc"
   ]
  },
  {
   "cell_type": "code",
   "execution_count": 124,
   "metadata": {},
   "outputs": [
    {
     "name": "stdout",
     "output_type": "stream",
     "text": [
      "2020-01-10 12:59:19,735 loading file C:\\Users\\makayser\\.flair\\models\\en-ner-ontonotes-fast-v0.4.pt\n",
      "['flair']\n"
     ]
    }
   ],
   "source": [
    "nlp = he.load_spacy_model('en', disable=['ner','parser','tagger'])\n",
    "flair_matcher = FlairMatcher(nlp, 'en')\n",
    "nlp.add_pipe(flair_matcher)\n",
    "print(nlp.pipe_names)  # The components in the pipeline"
   ]
  },
  {
   "cell_type": "code",
   "execution_count": 125,
   "metadata": {},
   "outputs": [
    {
     "name": "stdout",
     "output_type": "stream",
     "text": [
      "PERSON-span [6,7]: \"Barack Obama\"\n",
      "{'text': 'Barack Obama', 'start_pos': 21, 'end_pos': 33, 'type': 'PERSON', 'confidence': 0.8200025260448456}\n",
      "PRODUCT-span [14,15]: \"Windows 7\"\n",
      "{'text': 'Windows 7', 'start_pos': 61, 'end_pos': 70, 'type': 'PRODUCT', 'confidence': 0.7047008872032166}\n",
      "[('Barack Obama', 'PERSON'), ('Windows 7', 'PRODUCT')]\n",
      "Wall time: 455 ms\n"
     ]
    }
   ],
   "source": [
    "%%time\n",
    "doc = nlp(\"This is a text about Barack Obama and a tree kangaroo. I use Windows 7 at work, \")\n",
    "print([(ent.text, ent.label_) for ent in doc.ents])"
   ]
  },
  {
   "cell_type": "markdown",
   "metadata": {},
   "source": [
    "### FLAIR\n",
    "\n",
    "Good:\n",
    "- Better quality\n",
    "\n",
    "Bad:\n",
    "- Slow"
   ]
  },
  {
   "cell_type": "code",
   "execution_count": 2,
   "metadata": {},
   "outputs": [
    {
     "name": "stderr",
     "output_type": "stream",
     "text": [
      "I0112 00:12:31.152729 32684 file_utils.py:35] PyTorch version 1.3.1 available.\n"
     ]
    }
   ],
   "source": [
    "from flair.data import Sentence\n",
    "from flair.models import SequenceTagger"
   ]
  },
  {
   "cell_type": "code",
   "execution_count": 5,
   "metadata": {},
   "outputs": [],
   "source": [
    "en_tagger = None#SequenceTagger.load('C:/Users/makayser/.flair/models/en-ner-conll03-v0.4.pt')"
   ]
  },
  {
   "cell_type": "code",
   "execution_count": 4,
   "metadata": {},
   "outputs": [
    {
     "name": "stdout",
     "output_type": "stream",
     "text": [
      "Sentence: \"My Windows 7 PC has a blank screen after i re-installed it. Not even getting an error code. Can I have Bill Gates number, need help?! Microsoft should know better...\" - 30 Tokens\n",
      "The following NER tags are found:\n",
      "MISC-span [2,3]: \"Windows 7\"\n",
      "PER-span [22,23]: \"Bill Gates\"\n",
      "ORG-span [27]: \"Microsoft\"\n"
     ]
    }
   ],
   "source": [
    "\n",
    "en = Sentence(\"My Windows 7 PC has a blank screen after i re-installed it. Not even getting an error code. Can I have Bill Gates number, need help?! Microsoft should know better...\")\n",
    "# load the NER tagger\n",
    "# en_tagger = SequenceTagger.load('ner-ontonotes-fast')\n",
    "\n",
    "# run NER over sentence\n",
    "en_tagger.predict(en)\n",
    "\n",
    "print(en)\n",
    "print('The following NER tags are found:')\n",
    "\n",
    "# iterate over entities and print\n",
    "for entity in en.get_spans('ner'):\n",
    "    print(entity)"
   ]
  },
  {
   "cell_type": "code",
   "execution_count": 91,
   "metadata": {
    "scrolled": true
   },
   "outputs": [
    {
     "data": {
      "text/plain": [
       "'4'"
      ]
     },
     "execution_count": 91,
     "metadata": {},
     "output_type": "execute_result"
    }
   ],
   "source": [
    "str(en.get_spans('ner')[0]).split('[')[1].split(']')[0][-1]"
   ]
  },
  {
   "cell_type": "code",
   "execution_count": 29,
   "metadata": {},
   "outputs": [
    {
     "name": "stdout",
     "output_type": "stream",
     "text": [
      "2020-01-09 20:21:01,752 loading file C:\\Users\\makayser\\.flair\\models\\ner-multi-fast.pt\n"
     ]
    }
   ],
   "source": [
    "# load the NER tagger\n",
    "multi_tagger = SequenceTagger.load('ner-multi-fast')"
   ]
  },
  {
   "cell_type": "code",
   "execution_count": 30,
   "metadata": {},
   "outputs": [
    {
     "name": "stdout",
     "output_type": "stream",
     "text": [
      "Sentence: \"Mein Windows Vista rechner will nicht mehr - ich kriege dauernd fehler meldungen. Was ist Microsoft für eine Firma. Ich wollte mir eh einen neuen kaufen, aber ich hab kein Geld. Kann Bill Gates mir helfen?\" - 36 Tokens\n",
      "The following NER tags are found:\n",
      "PRODUCT-span [2,3,4]: \"Windows 7 PC\"\n",
      "PERSON-span [22,23]: \"Bill Gates\"\n",
      "ORG-span [27]: \"Microsoft\"\n",
      "Wall time: 821 ms\n"
     ]
    }
   ],
   "source": [
    "%%time\n",
    "# multi = Sentence(\"My Windows 7 PC has a blank screen after i re-installed it. Not even getting an error code. Can I have Bill Gates number, need help?! Microsoft should know better...\")\n",
    "multi = Sentence(\"Mein Windows Vista rechner will nicht mehr - ich kriege dauernd fehler meldungen. Was ist Microsoft für eine Firma. Ich wollte mir eh einen neuen kaufen, aber ich hab kein Geld. Kann Bill Gates mir helfen?\")\n",
    "\n",
    "# run NER over sentence\n",
    "multi_tagger.predict(multi)\n",
    "\n",
    "print(multi)\n",
    "print('The following NER tags are found:')\n",
    "\n",
    "# iterate over entities and print\n",
    "for entity in en.get_spans('ner'):\n",
    "    print(entity)"
   ]
  },
  {
   "cell_type": "code",
   "execution_count": 5,
   "metadata": {},
   "outputs": [
    {
     "name": "stdout",
     "output_type": "stream",
     "text": [
      "2020-01-09 12:44:20,136 loading file C:\\Users\\makayser\\.flair\\models\\en-ner-conll03-v0.4.pt\n",
      "Sentence: \"My Windows 7 PC has a blank screen after i re-installed it. Not even getting an error code. Can I have Bill Gates number, need help?! Microsoft should know better...\" - 30 Tokens\n",
      "The following NER tags are found:\n",
      "MISC-span [2,3]: \"Windows 7\"\n",
      "PER-span [22,23]: \"Bill Gates\"\n",
      "ORG-span [27]: \"Microsoft\"\n"
     ]
    }
   ],
   "source": [
    "en = Sentence(\"My Windows 7 PC has a blank screen after i re-installed it. Not even getting an error code. Can I have Bill Gates number, need help?! Microsoft should know better...\")\n",
    "# load the NER tagger\n",
    "en_tagger = SequenceTagger.load('ner')\n",
    "\n",
    "# run NER over sentence\n",
    "en_tagger.predict(en)\n",
    "\n",
    "print(en)\n",
    "print('The following NER tags are found:')\n",
    "\n",
    "# iterate over entities and print\n",
    "for entity in en.get_spans('ner'):\n",
    "    print(entity)"
   ]
  },
  {
   "cell_type": "code",
   "execution_count": 36,
   "metadata": {},
   "outputs": [
    {
     "ename": "ImportError",
     "evalue": "[E048] Can't import language en_core_web_sm from spacy.lang: No module named 'spacy.lang.en_core_web_sm'",
     "output_type": "error",
     "traceback": [
      "\u001b[1;31m---------------------------------------------------------------------------\u001b[0m",
      "\u001b[1;31mModuleNotFoundError\u001b[0m                       Traceback (most recent call last)",
      "\u001b[1;32m~\\AppData\\Local\\Continuum\\anaconda3\\envs\\nlp\\lib\\site-packages\\spacy\\util.py\u001b[0m in \u001b[0;36mget_lang_class\u001b[1;34m(lang)\u001b[0m\n\u001b[0;32m     79\u001b[0m         \u001b[1;32mtry\u001b[0m\u001b[1;33m:\u001b[0m\u001b[1;33m\u001b[0m\u001b[1;33m\u001b[0m\u001b[0m\n\u001b[1;32m---> 80\u001b[1;33m             \u001b[0mmodule\u001b[0m \u001b[1;33m=\u001b[0m \u001b[0mimportlib\u001b[0m\u001b[1;33m.\u001b[0m\u001b[0mimport_module\u001b[0m\u001b[1;33m(\u001b[0m\u001b[1;34m\".lang.%s\"\u001b[0m \u001b[1;33m%\u001b[0m \u001b[0mlang\u001b[0m\u001b[1;33m,\u001b[0m \u001b[1;34m\"spacy\"\u001b[0m\u001b[1;33m)\u001b[0m\u001b[1;33m\u001b[0m\u001b[1;33m\u001b[0m\u001b[0m\n\u001b[0m\u001b[0;32m     81\u001b[0m         \u001b[1;32mexcept\u001b[0m \u001b[0mImportError\u001b[0m \u001b[1;32mas\u001b[0m \u001b[0merr\u001b[0m\u001b[1;33m:\u001b[0m\u001b[1;33m\u001b[0m\u001b[1;33m\u001b[0m\u001b[0m\n",
      "\u001b[1;32m~\\AppData\\Local\\Continuum\\anaconda3\\envs\\nlp\\lib\\importlib\\__init__.py\u001b[0m in \u001b[0;36mimport_module\u001b[1;34m(name, package)\u001b[0m\n\u001b[0;32m    125\u001b[0m             \u001b[0mlevel\u001b[0m \u001b[1;33m+=\u001b[0m \u001b[1;36m1\u001b[0m\u001b[1;33m\u001b[0m\u001b[1;33m\u001b[0m\u001b[0m\n\u001b[1;32m--> 126\u001b[1;33m     \u001b[1;32mreturn\u001b[0m \u001b[0m_bootstrap\u001b[0m\u001b[1;33m.\u001b[0m\u001b[0m_gcd_import\u001b[0m\u001b[1;33m(\u001b[0m\u001b[0mname\u001b[0m\u001b[1;33m[\u001b[0m\u001b[0mlevel\u001b[0m\u001b[1;33m:\u001b[0m\u001b[1;33m]\u001b[0m\u001b[1;33m,\u001b[0m \u001b[0mpackage\u001b[0m\u001b[1;33m,\u001b[0m \u001b[0mlevel\u001b[0m\u001b[1;33m)\u001b[0m\u001b[1;33m\u001b[0m\u001b[1;33m\u001b[0m\u001b[0m\n\u001b[0m\u001b[0;32m    127\u001b[0m \u001b[1;33m\u001b[0m\u001b[0m\n",
      "\u001b[1;32m~\\AppData\\Local\\Continuum\\anaconda3\\envs\\nlp\\lib\\importlib\\_bootstrap.py\u001b[0m in \u001b[0;36m_gcd_import\u001b[1;34m(name, package, level)\u001b[0m\n",
      "\u001b[1;32m~\\AppData\\Local\\Continuum\\anaconda3\\envs\\nlp\\lib\\importlib\\_bootstrap.py\u001b[0m in \u001b[0;36m_find_and_load\u001b[1;34m(name, import_)\u001b[0m\n",
      "\u001b[1;32m~\\AppData\\Local\\Continuum\\anaconda3\\envs\\nlp\\lib\\importlib\\_bootstrap.py\u001b[0m in \u001b[0;36m_find_and_load_unlocked\u001b[1;34m(name, import_)\u001b[0m\n",
      "\u001b[1;31mModuleNotFoundError\u001b[0m: No module named 'spacy.lang.en_core_web_sm'",
      "\nDuring handling of the above exception, another exception occurred:\n",
      "\u001b[1;31mImportError\u001b[0m                               Traceback (most recent call last)",
      "\u001b[1;32m<ipython-input-36-54b3a32c9160>\u001b[0m in \u001b[0;36m<module>\u001b[1;34m\u001b[0m\n\u001b[0;32m      1\u001b[0m \u001b[1;32mimport\u001b[0m \u001b[0mspacy\u001b[0m\u001b[1;33m\u001b[0m\u001b[1;33m\u001b[0m\u001b[0m\n\u001b[1;32m----> 2\u001b[1;33m \u001b[0mnlp\u001b[0m \u001b[1;33m=\u001b[0m \u001b[0mspacy\u001b[0m\u001b[1;33m.\u001b[0m\u001b[0mblank\u001b[0m\u001b[1;33m(\u001b[0m\u001b[1;34m'en_core_web_sm'\u001b[0m\u001b[1;33m)\u001b[0m\u001b[1;33m\u001b[0m\u001b[1;33m\u001b[0m\u001b[0m\n\u001b[0m",
      "\u001b[1;32m~\\AppData\\Local\\Continuum\\anaconda3\\envs\\nlp\\lib\\site-packages\\spacy\\__init__.py\u001b[0m in \u001b[0;36mblank\u001b[1;34m(name, **kwargs)\u001b[0m\n\u001b[0;32m     29\u001b[0m \u001b[1;33m\u001b[0m\u001b[0m\n\u001b[0;32m     30\u001b[0m \u001b[1;32mdef\u001b[0m \u001b[0mblank\u001b[0m\u001b[1;33m(\u001b[0m\u001b[0mname\u001b[0m\u001b[1;33m,\u001b[0m \u001b[1;33m**\u001b[0m\u001b[0mkwargs\u001b[0m\u001b[1;33m)\u001b[0m\u001b[1;33m:\u001b[0m\u001b[1;33m\u001b[0m\u001b[1;33m\u001b[0m\u001b[0m\n\u001b[1;32m---> 31\u001b[1;33m     \u001b[0mLangClass\u001b[0m \u001b[1;33m=\u001b[0m \u001b[0mutil\u001b[0m\u001b[1;33m.\u001b[0m\u001b[0mget_lang_class\u001b[0m\u001b[1;33m(\u001b[0m\u001b[0mname\u001b[0m\u001b[1;33m)\u001b[0m\u001b[1;33m\u001b[0m\u001b[1;33m\u001b[0m\u001b[0m\n\u001b[0m\u001b[0;32m     32\u001b[0m     \u001b[1;32mreturn\u001b[0m \u001b[0mLangClass\u001b[0m\u001b[1;33m(\u001b[0m\u001b[1;33m**\u001b[0m\u001b[0mkwargs\u001b[0m\u001b[1;33m)\u001b[0m\u001b[1;33m\u001b[0m\u001b[1;33m\u001b[0m\u001b[0m\n\u001b[0;32m     33\u001b[0m \u001b[1;33m\u001b[0m\u001b[0m\n",
      "\u001b[1;32m~\\AppData\\Local\\Continuum\\anaconda3\\envs\\nlp\\lib\\site-packages\\spacy\\util.py\u001b[0m in \u001b[0;36mget_lang_class\u001b[1;34m(lang)\u001b[0m\n\u001b[0;32m     80\u001b[0m             \u001b[0mmodule\u001b[0m \u001b[1;33m=\u001b[0m \u001b[0mimportlib\u001b[0m\u001b[1;33m.\u001b[0m\u001b[0mimport_module\u001b[0m\u001b[1;33m(\u001b[0m\u001b[1;34m\".lang.%s\"\u001b[0m \u001b[1;33m%\u001b[0m \u001b[0mlang\u001b[0m\u001b[1;33m,\u001b[0m \u001b[1;34m\"spacy\"\u001b[0m\u001b[1;33m)\u001b[0m\u001b[1;33m\u001b[0m\u001b[1;33m\u001b[0m\u001b[0m\n\u001b[0;32m     81\u001b[0m         \u001b[1;32mexcept\u001b[0m \u001b[0mImportError\u001b[0m \u001b[1;32mas\u001b[0m \u001b[0merr\u001b[0m\u001b[1;33m:\u001b[0m\u001b[1;33m\u001b[0m\u001b[1;33m\u001b[0m\u001b[0m\n\u001b[1;32m---> 82\u001b[1;33m             \u001b[1;32mraise\u001b[0m \u001b[0mImportError\u001b[0m\u001b[1;33m(\u001b[0m\u001b[0mErrors\u001b[0m\u001b[1;33m.\u001b[0m\u001b[0mE048\u001b[0m\u001b[1;33m.\u001b[0m\u001b[0mformat\u001b[0m\u001b[1;33m(\u001b[0m\u001b[0mlang\u001b[0m\u001b[1;33m=\u001b[0m\u001b[0mlang\u001b[0m\u001b[1;33m,\u001b[0m \u001b[0merr\u001b[0m\u001b[1;33m=\u001b[0m\u001b[0merr\u001b[0m\u001b[1;33m)\u001b[0m\u001b[1;33m)\u001b[0m\u001b[1;33m\u001b[0m\u001b[1;33m\u001b[0m\u001b[0m\n\u001b[0m\u001b[0;32m     83\u001b[0m         \u001b[0mLANGUAGES\u001b[0m\u001b[1;33m[\u001b[0m\u001b[0mlang\u001b[0m\u001b[1;33m]\u001b[0m \u001b[1;33m=\u001b[0m \u001b[0mgetattr\u001b[0m\u001b[1;33m(\u001b[0m\u001b[0mmodule\u001b[0m\u001b[1;33m,\u001b[0m \u001b[0mmodule\u001b[0m\u001b[1;33m.\u001b[0m\u001b[0m__all__\u001b[0m\u001b[1;33m[\u001b[0m\u001b[1;36m0\u001b[0m\u001b[1;33m]\u001b[0m\u001b[1;33m)\u001b[0m\u001b[1;33m\u001b[0m\u001b[1;33m\u001b[0m\u001b[0m\n\u001b[0;32m     84\u001b[0m     \u001b[1;32mreturn\u001b[0m \u001b[0mLANGUAGES\u001b[0m\u001b[1;33m[\u001b[0m\u001b[0mlang\u001b[0m\u001b[1;33m]\u001b[0m\u001b[1;33m\u001b[0m\u001b[1;33m\u001b[0m\u001b[0m\n",
      "\u001b[1;31mImportError\u001b[0m: [E048] Can't import language en_core_web_sm from spacy.lang: No module named 'spacy.lang.en_core_web_sm'"
     ]
    }
   ],
   "source": [
    "import spacy\n",
    "nlp = spacy.blank('en_core_web_sm')"
   ]
  },
  {
   "cell_type": "code",
   "execution_count": null,
   "metadata": {},
   "outputs": [],
   "source": []
  },
  {
   "cell_type": "code",
   "execution_count": 7,
   "metadata": {},
   "outputs": [
    {
     "name": "stdout",
     "output_type": "stream",
     "text": [
      "2020-01-09 12:47:23,317 loading file C:\\Users\\makayser\\.flair\\models\\de-ner-conll03-v0.4.pt\n",
      "Sentence: \"Mein Windows Vista rechner will nicht mehr - ich kriege dauernd fehler meldungen. Was ist Microsoft für eine Firma. Ich wollte mir eh einen neuen kaufen, aber ich hab kein Geld. Kann Bill Gates mir helfen?\" - 36 Tokens\n",
      "The following NER tags are found:\n",
      "ORG-span [16]: \"Microsoft\"\n",
      "PER-span [33,34]: \"Bill Gates\"\n"
     ]
    }
   ],
   "source": [
    "de = Sentence(\"Mein Windows Vista rechner will nicht mehr - ich kriege dauernd fehler meldungen. Was ist Microsoft für eine Firma. Ich wollte mir eh einen neuen kaufen, aber ich hab kein Geld. Kann Bill Gates mir helfen?\")\n",
    "# load the NER tagger\n",
    "de_tagger = SequenceTagger.load('de-ner')\n",
    "\n",
    "# run NER over sentence\n"
   ]
  },
  {
   "cell_type": "code",
   "execution_count": 34,
   "metadata": {},
   "outputs": [
    {
     "name": "stdout",
     "output_type": "stream",
     "text": [
      "Sentence: \"Mein Windows 7 rechner will nicht mehr - ich kriege dauernd fehler meldungen. Was ist Microsoft für eine Firma. Ich wollte mir eh einen neuen kaufen, aber ich hab kein Geld. Kann Bill Gates mir helfen? Mein Windows 7 rechner will nicht mehr - ich kriege dauernd fehler meldungen. Was ist Microsoft für eine Firma. Ich wollte mir eh einen neuen kaufen, aber ich hab kein Geld. Kann Bill Gates mir helfen? Mein Windows 7 rechner will nicht mehr - ich kriege dauernd fehler meldungen. Was ist Microsoft für eine Firma. Ich wollte mir eh einen neuen kaufen, aber ich hab kein Geld. Kann Bill Gates mir helfen? Mein Windows 7 rechner will nicht mehr - ich kriege dauernd fehler meldungen. Was ist Microsoft für eine Firma. Ich wollte mir eh einen neuen kaufen, aber ich hab kein Geld. Kann Bill Gates mir helfen?\" - 144 Tokens\n",
      "The following NER tags are found:\n",
      "MISC-span [2,3]: \"Windows 7\"\n",
      "ORG-span [16]: \"Microsoft\"\n",
      "PER-span [33,34]: \"Bill Gates\"\n",
      "ORG-span [52]: \"Microsoft\"\n",
      "PER-span [69,70]: \"Bill Gates\"\n",
      "ORG-span [88]: \"Microsoft\"\n",
      "PER-span [105,106]: \"Bill Gates\"\n",
      "ORG-span [124]: \"Microsoft\"\n",
      "PER-span [141,142]: \"Bill Gates\"\n",
      "Wall time: 1.95 s\n"
     ]
    }
   ],
   "source": [
    "%%time\n",
    "t = \" Mein Windows 7 rechner will nicht mehr - ich kriege dauernd fehler meldungen. Was ist Microsoft für eine Firma. Ich wollte mir eh einen neuen kaufen, aber ich hab kein Geld. Kann Bill Gates mir helfen?\"\n",
    "de = Sentence(t + t + t + t )\n",
    "multi_tagger.predict(de)\n",
    "\n",
    "print(de)\n",
    "print('The following NER tags are found:')\n",
    "\n",
    "# iterate over entities and print\n",
    "for entity in de.get_spans('ner'):\n",
    "    print(entity)"
   ]
  },
  {
   "cell_type": "code",
   "execution_count": null,
   "metadata": {},
   "outputs": [],
   "source": []
  }
 ],
 "metadata": {
  "kernelspec": {
   "display_name": "nlp",
   "language": "python",
   "name": "nlp"
  },
  "language_info": {
   "codemirror_mode": {
    "name": "ipython",
    "version": 3
   },
   "file_extension": ".py",
   "mimetype": "text/x-python",
   "name": "python",
   "nbconvert_exporter": "python",
   "pygments_lexer": "ipython3",
   "version": "3.6.9"
  }
 },
 "nbformat": 4,
 "nbformat_minor": 4
}
