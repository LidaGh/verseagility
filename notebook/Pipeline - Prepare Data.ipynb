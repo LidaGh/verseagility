{
 "cells": [
  {
   "cell_type": "markdown",
   "metadata": {},
   "source": [
    "# Step 1 - Prepare Data\n",
    "\n",
    "Data cleaning."
   ]
  },
  {
   "cell_type": "code",
   "execution_count": 1,
   "metadata": {},
   "outputs": [],
   "source": [
    "%load_ext autoreload\n",
    "%autoreload 2"
   ]
  },
  {
   "cell_type": "code",
   "execution_count": 2,
   "metadata": {},
   "outputs": [],
   "source": [
    "import pandas as pd"
   ]
  },
  {
   "cell_type": "code",
   "execution_count": 3,
   "metadata": {},
   "outputs": [
    {
     "name": "stderr",
     "output_type": "stream",
     "text": [
      "C:\\Users\\makayser\\AppData\\Roaming\\Python\\Python36\\site-packages\\requests\\__init__.py:91: RequestsDependencyWarning: urllib3 (1.25.7) or chardet (3.0.4) doesn't match a supported version!\n",
      "  RequestsDependencyWarning)\n"
     ]
    }
   ],
   "source": [
    "# Custom Functions\n",
    "import sys\n",
    "sys.path.append('../src')\n",
    "import data as dt\n",
    "import prepare as pr\n",
    "import helper as he"
   ]
  },
  {
   "cell_type": "markdown",
   "metadata": {},
   "source": [
    "### Load Data"
   ]
  },
  {
   "cell_type": "code",
   "execution_count": 4,
   "metadata": {},
   "outputs": [],
   "source": [
    "dt_task = dt.Data()"
   ]
  },
  {
   "cell_type": "code",
   "execution_count": 5,
   "metadata": {},
   "outputs": [],
   "source": [
    "data = dt_task.load('fn_clean')"
   ]
  },
  {
   "cell_type": "code",
   "execution_count": 4,
   "metadata": {},
   "outputs": [],
   "source": [
    "fn_data = he.get_config()['path']['sample_dir'] + 'data.txt'"
   ]
  },
  {
   "cell_type": "code",
   "execution_count": 5,
   "metadata": {},
   "outputs": [],
   "source": [
    "data = pd.read_csv(fn_data, sep='\\t', encoding='utf-8')"
   ]
  },
  {
   "cell_type": "code",
   "execution_count": 6,
   "metadata": {},
   "outputs": [
    {
     "data": {
      "text/plain": [
       "Index(['id', 'views', 'appliesTo', 'url', 'language', 'question_title',\n",
       "       'question_author', 'question_createdAt', 'question_text',\n",
       "       'question_upvotes', 'answer_markedAsAnswer', 'answer_createdAt',\n",
       "       'answer_text', 'answer_upvotes'],\n",
       "      dtype='object')"
      ]
     },
     "execution_count": 6,
     "metadata": {},
     "output_type": "execute_result"
    }
   ],
   "source": [
    "data.columns"
   ]
  },
  {
   "cell_type": "code",
   "execution_count": 135,
   "metadata": {},
   "outputs": [],
   "source": [
    "data = data[data.answer_markedAsAnswer == True].reset_index(drop=True).copy()"
   ]
  },
  {
   "cell_type": "code",
   "execution_count": 139,
   "metadata": {},
   "outputs": [
    {
     "data": {
      "text/plain": [
       "'{\"id\":{\"0\":1,\"1\":4,\"2\":5,\"3\":6,\"4\":7},\"views\":{\"0\":58771,\"1\":119,\"2\":26,\"3\":9041,\"4\":257},\"appliesTo\":{\"0\":\"msoffice,Outlook,Windows 8,Office 365 Home\",\"1\":\"bing,Bing Ads,Bing Ads customers,Universal Event Tracking, conversions, reporting\",\"2\":\"bing,Other,Developers and webmasters\",\"3\":\"bing,Maps,Sharing and social search results,Bing.com for PC\\\\/Mac browsers\",\"4\":\"bing,Other,Bing users and consumers\"},\"url\":{\"0\":\"http:\\\\/\\\\/answers.microsoft.com\\\\/en-us\\\\/office\\\\/forum\\\\/office_365hp-outlook\\\\/unable-to-delete-emails-message-the-operation\\\\/feb1c2f0-430c-4622-a1ce-790474f44afc\",\"1\":\"https:\\\\/\\\\/answers.microsoft.com\\\\/en-us\\\\/bing\\\\/forum\\\\/all\\\\/api-webfault-deserialize-parameter-in-python\\\\/eb2d6f02-c93a-4f95-b08d-60411b67b852\",\"2\":\"https:\\\\/\\\\/answers.microsoft.com\\\\/en-us\\\\/bing\\\\/forum\\\\/bing_ads-bing_adscustomers\\\\/bing-ads-api-invalidlocationid-error-for-italy-and\\\\/80e46c5b-6f3e-48c2-bac6-a5e0e8b816fe\",\"3\":\"https:\\\\/\\\\/answers.microsoft.com\\\\/en-us\\\\/bing\\\\/forum\\\\/bing_maps-bing_sharing\\\\/how-do-i-import-places-into-bing-maps\\\\/78d37c4d-f3cc-4432-acaa-ed223c6cdc0f\",\"4\":\"https:\\\\/\\\\/answers.microsoft.com\\\\/en-us\\\\/bing\\\\/forum\\\\/bing_other-bing_users\\\\/change-my-region-in-billing-info\\\\/3f2c856b-ae9f-47ff-8bfe-fc8f8275016f\"},\"language\":{\"0\":\"en-us\",\"1\":\"en-us\",\"2\":\"en-us\",\"3\":\"en-us\",\"4\":\"en-us\"},\"question_title\":{\"0\":\"Unable to delete emails - message: The operation cannot be performed because the object has been deleted\",\"1\":\"API WebFault deserialize parameter in Python\",\"2\":\"Bing ads api InvalidLocationId error for Italy and Japan.\",\"3\":\"How do I import places into Bing Maps?\",\"4\":\"Change my region in billing info?\"},\"question_author\":{\"0\":\"ChristopherStringer\",\"1\":\"Joe Heffer\",\"2\":\"ChetanSingh1\",\"3\":\"NeilBenson\",\"4\":\"ePLayar\"},\"question_createdAt\":{\"0\":\"2013-11-21T20:45:35\",\"1\":\"2017-11-07T17:09:27\",\"2\":\"2018-01-02T18:14:01\",\"3\":\"2014-07-14T19:16:09\",\"4\":\"2015-12-05T13:47:50\"},\"question_text\":{\"0\":\"<p>I had problems updating from Windows 8 to Windows 8.1. This was resolved today by MS on a remote session but as my Microsoft\\\\u00a0 account was corrupt they had to close it and reopen one using same email address. Everything has been reinstated including OFFICE 365, however if I try to delete an email I get a message \\\\\"<span><font color=\\\\\"#000000\\\\\">The operation cannot be performed because the object has been deleted\\\\\".<\\\\/font><\\\\/span><\\\\/p><p><span><font color=\\\\\"#000000\\\\\"><br\\\\/><\\\\/font><\\\\/span><\\\\/p><p><span><font color=\\\\\"#000000\\\\\">The other problem is sending emails. I thought they were getting stuck in the Outbox until I received a reply to one. So it appears they are being sent but staying in the Outbox rather than dropping into the sent folder. Not sure which problem is the most serious but really cannot live with either. Support is closed, so wonder if anyone has any ideas what I could try.<\\\\/font><\\\\/span><\\\\/p>\",\"1\":\"<p>Hi all,<\\\\/p><p><\\\\/p><p>I have some working Python code (I can request and download reports) which I\\'m trying to port into a Django application (which also uses the Google Adwords API for Python.) I\\'m using Python 3.5.2 in both cases.<\\\\/p><p><\\\\/p><p>I\\'m getting the following errors:<\\\\/p><p><\\\\/p><p class=\\\\\"contentCodeblock\\\\\">&lt;s:Envelope xmlns:s=\\\\\"http:\\\\/\\\\/schemas.xmlsoap.org\\\\/soap\\\\/envelope\\\\/\\\\\"&gt;<br\\\\/>\\\\u00a0 \\\\u00a0 &lt;s:Body&gt;<br\\\\/>\\\\u00a0 \\\\u00a0 \\\\u00a0 \\\\u00a0 &lt;s:Fault&gt;<br\\\\/>\\\\u00a0 \\\\u00a0 \\\\u00a0 \\\\u00a0 \\\\u00a0 \\\\u00a0 &lt;faultcode xmlns:a=\\\\\"http:\\\\/\\\\/schemas.microsoft.com\\\\/net\\\\/2005\\\\/12\\\\/windowscommunicationfoundation\\\\/dispatcher\\\\\"&gt;a:DeserializationFailed&lt;\\\\/faultcode&gt;<br\\\\/>\\\\u00a0 \\\\u00a0 \\\\u00a0 \\\\u00a0 \\\\u00a0 \\\\u00a0 &lt;faultstring xml:lang=\\\\\"en-US\\\\\"&gt;The formatter threw an exception while trying to deserialize the message:<br\\\\/>\\\\u00a0 \\\\u00a0 \\\\u00a0 \\\\u00a0 \\\\u00a0 \\\\u00a0 There was an error while trying to deserialize parameter https:\\\\/\\\\/bingads.microsoft.com\\\\/Reporting\\\\/v11:ReportRequest.\\\\u00a0<br\\\\/>\\\\u00a0 \\\\u00a0 \\\\u00a0 \\\\u00a0 \\\\u00a0 \\\\u00a0 The InnerException message was \\\\\\\\\\'There was an error deserializing the object of type Microsoft.AdCenter.Advertiser.Reporting.Api.DataContracts.Request.ReportRequest.<br\\\\/>\\\\u00a0 \\\\u00a0 \\\\u00a0 \\\\u00a0 \\\\u00a0 \\\\u00a0 The value \\\\\\\\\\'\\\\\\\\\\' cannot be parsed as the type \\\\\\\\\\'Int32\\\\\\\\\\'.\\\\\\\\\\'.\\\\u00a0 Please see InnerException for more details.&lt;\\\\/faultstring&gt;<br\\\\/>\\\\u00a0 \\\\u00a0 \\\\u00a0 \\\\u00a0 &lt;\\\\/s:Fault&gt;<br\\\\/>\\\\u00a0 \\\\u00a0 &lt;\\\\/s:Body&gt;<br\\\\/>&lt;\\\\/s:Envelope&gt;\\'<\\\\/p><p><\\\\/p><p>from this SOAP request:<\\\\/p><p><\\\\/p><p class=\\\\\"contentCodeblock\\\\\">&lt;?xml version=\\\\\"1.0\\\\\" encoding=\\\\\"UTF-8\\\\\"?&gt;<\\\\/p><p class=\\\\\"contentCodeblock\\\\\"><span>&lt;SOAP-ENV:Envelope xmlns:tns=\\\\\"https:\\\\/\\\\/bingads.microsoft.com\\\\/Reporting\\\\/v11\\\\\" xmlns:xsi=\\\\\"http:\\\\/\\\\/www.w3.org\\\\/2001\\\\/XMLSchema-instance\\\\\" xmlns:ns0=\\\\\"https:\\\\/\\\\/bingads.microsoft.com\\\\/Reporting\\\\/v11\\\\\" xmlns:SOAP-ENV=\\\\\"http:\\\\/\\\\/schemas.xmlsoap.org\\\\/soap\\\\/envelope\\\\/\\\\\" xmlns:ns1=\\\\\"http:\\\\/\\\\/schemas.xmlsoap.org\\\\/soap\\\\/envelope\\\\/\\\\\"&gt;<\\\\/span><\\\\/p>\\\\u00a0 \\\\u00a0 &lt;SOAP-ENV:Header&gt;<br\\\\/>\\\\u00a0 \\\\u00a0 \\\\u00a0 \\\\u00a0 &lt;tns:CustomerAccountId&gt;********&lt;\\\\/tns:CustomerAccountId&gt;<br\\\\/>\\\\u00a0 \\\\u00a0 \\\\u00a0 \\\\u00a0 &lt;tns:CustomerId&gt;*********&lt;\\\\/tns:CustomerId&gt;<br\\\\/>\\\\u00a0 \\\\u00a0 \\\\u00a0 \\\\u00a0 &lt;tns:DeveloperToken&gt;BBD37VB98&lt;\\\\/tns:DeveloperToken&gt;<br\\\\/>\\\\u00a0 \\\\u00a0 \\\\u00a0 \\\\u00a0 &lt;tns:Password&gt;********&lt;\\\\/tns:Password&gt;<br\\\\/>\\\\u00a0 \\\\u00a0 \\\\u00a0 \\\\u00a0 &lt;tns:UserName&gt;joe_heffer_sbx&lt;\\\\/tns:UserName&gt;<br\\\\/>\\\\u00a0 \\\\u00a0 &lt;\\\\/SOAP-ENV:Header&gt;<br\\\\/>\\\\u00a0 \\\\u00a0 &lt;ns1:Body&gt;<br\\\\/>\\\\u00a0 \\\\u00a0 \\\\u00a0 \\\\u00a0 &lt;ns0:SubmitGenerateReportRequest&gt;<br\\\\/>\\\\u00a0 \\\\u00a0 \\\\u00a0 \\\\u00a0 \\\\u00a0 \\\\u00a0 &lt;ns0:ReportRequest xsi:type=\\\\\"ns0:KeywordPerformanceReportRequest\\\\\"&gt;<br\\\\/>\\\\u00a0 \\\\u00a0 \\\\u00a0 \\\\u00a0 \\\\u00a0 \\\\u00a0 \\\\u00a0 \\\\u00a0 &lt;ns0:ExcludeColumnHeaders&gt;false&lt;\\\\/ns0:ExcludeColumnHeaders&gt;<br\\\\/>\\\\u00a0 \\\\u00a0 \\\\u00a0 \\\\u00a0 \\\\u00a0 \\\\u00a0 \\\\u00a0 \\\\u00a0 &lt;ns0:ExcludeReportFooter&gt;true&lt;\\\\/ns0:ExcludeReportFooter&gt;<br\\\\/>\\\\u00a0 \\\\u00a0 \\\\u00a0 \\\\u00a0 \\\\u00a0 \\\\u00a0 \\\\u00a0 \\\\u00a0 &lt;ns0:ExcludeReportHeader&gt;true&lt;\\\\/ns0:ExcludeReportHeader&gt;<br\\\\/>\\\\u00a0 \\\\u00a0 \\\\u00a0 \\\\u00a0 \\\\u00a0 \\\\u00a0 \\\\u00a0 \\\\u00a0 &lt;ns0:Format&gt;Csv&lt;\\\\/ns0:Format&gt;<br\\\\/>\\\\u00a0 \\\\u00a0 \\\\u00a0 \\\\u00a0 \\\\u00a0 \\\\u00a0 \\\\u00a0 \\\\u00a0 &lt;ns0:Language&gt;English&lt;\\\\/ns0:Language&gt;<br\\\\/>\\\\u00a0 \\\\u00a0 \\\\u00a0 \\\\u00a0 \\\\u00a0 \\\\u00a0 \\\\u00a0 \\\\u00a0 &lt;ns0:ReportName&gt;Bing Report&lt;\\\\/ns0:ReportName&gt;<br\\\\/>\\\\u00a0 \\\\u00a0 \\\\u00a0 \\\\u00a0 \\\\u00a0 \\\\u00a0 \\\\u00a0 \\\\u00a0 &lt;ns0:ReturnOnlyCompleteData&gt;false&lt;\\\\/ns0:ReturnOnlyCompleteData&gt;<br\\\\/>\\\\u00a0 \\\\u00a0 \\\\u00a0 \\\\u00a0 \\\\u00a0 \\\\u00a0 \\\\u00a0 \\\\u00a0 &lt;ns0:Aggregation&gt;Daily&lt;\\\\/ns0:Aggregation&gt;<br\\\\/>\\\\u00a0 \\\\u00a0 \\\\u00a0 \\\\u00a0 \\\\u00a0 \\\\u00a0 \\\\u00a0 \\\\u00a0 &lt;ns0:Columns&gt;<br\\\\/>\\\\u00a0 \\\\u00a0 \\\\u00a0 \\\\u00a0 \\\\u00a0 \\\\u00a0 \\\\u00a0 \\\\u00a0 \\\\u00a0 \\\\u00a0 &lt;ns0:KeywordPerformanceReportColumn&gt;TimePeriod&lt;\\\\/ns0:KeywordPerformanceReportColumn&gt;<br\\\\/>\\\\u00a0 \\\\u00a0 \\\\u00a0 \\\\u00a0 \\\\u00a0 \\\\u00a0 \\\\u00a0 \\\\u00a0 \\\\u00a0 \\\\u00a0 &lt;ns0:KeywordPerformanceReportColumn&gt;Spend&lt;\\\\/ns0:KeywordPerformanceReportColumn&gt;<br\\\\/>\\\\u00a0 \\\\u00a0 \\\\u00a0 \\\\u00a0 \\\\u00a0 \\\\u00a0 \\\\u00a0 \\\\u00a0 &lt;\\\\/ns0:Columns&gt;<br\\\\/>\\\\u00a0 \\\\u00a0 \\\\u00a0 \\\\u00a0 \\\\u00a0 \\\\u00a0 \\\\u00a0 \\\\u00a0 &lt;ns0:Filter&gt;<br\\\\/>\\\\u00a0 \\\\u00a0 \\\\u00a0 \\\\u00a0 \\\\u00a0 \\\\u00a0 \\\\u00a0 \\\\u00a0 \\\\u00a0 \\\\u00a0 &lt;ns0:AdRelevance\\\\/&gt;<br\\\\/>\\\\u00a0 \\\\u00a0 \\\\u00a0 \\\\u00a0 \\\\u00a0 \\\\u00a0 \\\\u00a0 \\\\u00a0 \\\\u00a0 \\\\u00a0 &lt;ns0:ExpectedCtr\\\\/&gt;<br\\\\/>\\\\u00a0 \\\\u00a0 \\\\u00a0 \\\\u00a0 \\\\u00a0 \\\\u00a0 \\\\u00a0 \\\\u00a0 \\\\u00a0 \\\\u00a0 &lt;ns0:Keywords\\\\/&gt;<br\\\\/>\\\\u00a0 \\\\u00a0 \\\\u00a0 \\\\u00a0 \\\\u00a0 \\\\u00a0 \\\\u00a0 \\\\u00a0 \\\\u00a0 \\\\u00a0 &lt;ns0:LandingPageExperience\\\\/&gt;<br\\\\/>\\\\u00a0 \\\\u00a0 \\\\u00a0 \\\\u00a0 \\\\u00a0 \\\\u00a0 \\\\u00a0 \\\\u00a0 \\\\u00a0 \\\\u00a0 &lt;ns0:LanguageCode\\\\/&gt;<br\\\\/>\\\\u00a0 \\\\u00a0 \\\\u00a0 \\\\u00a0 \\\\u00a0 \\\\u00a0 \\\\u00a0 \\\\u00a0 \\\\u00a0 \\\\u00a0 &lt;ns0:QualityScore\\\\/&gt;<br\\\\/>\\\\u00a0 \\\\u00a0 \\\\u00a0 \\\\u00a0 \\\\u00a0 \\\\u00a0 \\\\u00a0 \\\\u00a0 &lt;\\\\/ns0:Filter&gt;<br\\\\/>\\\\u00a0 \\\\u00a0 \\\\u00a0 \\\\u00a0 \\\\u00a0 \\\\u00a0 \\\\u00a0 \\\\u00a0 &lt;ns0:Scope\\\\/&gt;<br\\\\/>\\\\u00a0 \\\\u00a0 \\\\u00a0 \\\\u00a0 \\\\u00a0 \\\\u00a0 \\\\u00a0 \\\\u00a0 &lt;ns0:Sort\\\\/&gt;<br\\\\/>\\\\u00a0 \\\\u00a0 \\\\u00a0 \\\\u00a0 \\\\u00a0 \\\\u00a0 \\\\u00a0 \\\\u00a0 &lt;ns0:Time&gt;<br\\\\/>\\\\u00a0 \\\\u00a0 \\\\u00a0 \\\\u00a0 \\\\u00a0 \\\\u00a0 \\\\u00a0 \\\\u00a0 \\\\u00a0 \\\\u00a0 &lt;ns0:CustomDateRangeEnd&gt;<br\\\\/>\\\\u00a0 \\\\u00a0 \\\\u00a0 \\\\u00a0 \\\\u00a0 \\\\u00a0 \\\\u00a0 \\\\u00a0 \\\\u00a0 \\\\u00a0 \\\\u00a0 \\\\u00a0 &lt;ns0:Day\\\\/&gt;<br\\\\/>\\\\u00a0 \\\\u00a0 \\\\u00a0 \\\\u00a0 \\\\u00a0 \\\\u00a0 \\\\u00a0 \\\\u00a0 \\\\u00a0 \\\\u00a0 \\\\u00a0 \\\\u00a0 &lt;ns0:Month\\\\/&gt;<br\\\\/>\\\\u00a0 \\\\u00a0 \\\\u00a0 \\\\u00a0 \\\\u00a0 \\\\u00a0 \\\\u00a0 \\\\u00a0 \\\\u00a0 \\\\u00a0 \\\\u00a0 \\\\u00a0 &lt;ns0:Year\\\\/&gt;<br\\\\/>\\\\u00a0 \\\\u00a0 \\\\u00a0 \\\\u00a0 \\\\u00a0 \\\\u00a0 \\\\u00a0 \\\\u00a0 \\\\u00a0 \\\\u00a0 &lt;\\\\/ns0:CustomDateRangeEnd&gt;<br\\\\/>\\\\u00a0 \\\\u00a0 \\\\u00a0 \\\\u00a0 \\\\u00a0 \\\\u00a0 \\\\u00a0 \\\\u00a0 \\\\u00a0 \\\\u00a0 &lt;ns0:CustomDateRangeStart&gt;<br\\\\/>\\\\u00a0 \\\\u00a0 \\\\u00a0 \\\\u00a0 \\\\u00a0 \\\\u00a0 \\\\u00a0 \\\\u00a0 \\\\u00a0 \\\\u00a0 \\\\u00a0 \\\\u00a0 &lt;ns0:Day\\\\/&gt;<br\\\\/>\\\\u00a0 \\\\u00a0 \\\\u00a0 \\\\u00a0 \\\\u00a0 \\\\u00a0 \\\\u00a0 \\\\u00a0 \\\\u00a0 \\\\u00a0 \\\\u00a0 \\\\u00a0 &lt;ns0:Month\\\\/&gt;<br\\\\/>\\\\u00a0 \\\\u00a0 \\\\u00a0 \\\\u00a0 \\\\u00a0 \\\\u00a0 \\\\u00a0 \\\\u00a0 \\\\u00a0 \\\\u00a0 \\\\u00a0 \\\\u00a0 &lt;ns0:Year\\\\/&gt;<br\\\\/>\\\\u00a0 \\\\u00a0 \\\\u00a0 \\\\u00a0 \\\\u00a0 \\\\u00a0 \\\\u00a0 \\\\u00a0 \\\\u00a0 \\\\u00a0 &lt;\\\\/ns0:CustomDateRangeStart&gt;<br\\\\/>\\\\u00a0 \\\\u00a0 \\\\u00a0 \\\\u00a0 \\\\u00a0 \\\\u00a0 \\\\u00a0 \\\\u00a0 \\\\u00a0 \\\\u00a0 &lt;ns0:PredefinedTime&gt;ThisYear&lt;\\\\/ns0:PredefinedTime&gt;<br\\\\/>\\\\u00a0 \\\\u00a0 \\\\u00a0 \\\\u00a0 \\\\u00a0 \\\\u00a0 \\\\u00a0 \\\\u00a0 &lt;\\\\/ns0:Time&gt;<br\\\\/>\\\\u00a0 \\\\u00a0 \\\\u00a0 \\\\u00a0 \\\\u00a0 \\\\u00a0 &lt;\\\\/ns0:ReportRequest&gt;<br\\\\/>\\\\u00a0 \\\\u00a0 \\\\u00a0 \\\\u00a0 &lt;\\\\/ns0:SubmitGenerateReportRequest&gt;<br\\\\/>\\\\u00a0 \\\\u00a0 &lt;\\\\/ns1:Body&gt;<br\\\\/>&lt;\\\\/SOAP-ENV:Envelope&gt;<p><\\\\/p>\",\"2\":\"<p>Hi,\\\\u00a0<\\\\/p><p>I am using Bing Ads PHP API and its working very good for USA, UK and Canada but for Italy and japan its showing error like\\\\u00a0<\\\\/p><p><\\\\/p><p>for Italy\\\\u00a0<\\\\/p><p><\\\\/p><p class=\\\\\"contentCodeblock\\\\\"><span>&lt;s:Envelope xmlns:s=\\\\\"http:\\\\/\\\\/schemas.xmlsoap.org\\\\/soap\\\\/envelope\\\\/\\\\\"&gt;&lt;s:Body&gt;&lt;s:Fault&gt;&lt;faultcode&gt;s:Server&lt;\\\\/faultcode&gt;&lt;faultstring xml:lang=\\\\\"en-US\\\\\"&gt;Invalid client data. Check the SOAP fault details for more information&lt;\\\\/faultstring&gt;&lt;detail&gt;&lt;ApiFaultDetail xmlns=\\\\\"Microsoft.Advertiser.AdInsight.Api.Service.V11\\\\\" xmlns:i=\\\\\"http:\\\\/\\\\/www.w3.org\\\\/2001\\\\/XMLSchema-instance\\\\\"&gt;&lt;TrackingId xmlns=\\\\\"https:\\\\/\\\\/adapi.microsoft.com\\\\\"&gt;0caff7d6-ad89-477e-963b-3dc8950bf12e&lt;\\\\/TrackingId&gt;&lt;BatchErrors xmlns:a=\\\\\"https:\\\\/\\\\/bingads.microsoft.com\\\\/AdInsight\\\\/v11\\\\\"\\\\/&gt;&lt;OperationErrors xmlns:a=\\\\\"https:\\\\/\\\\/bingads.microsoft.com\\\\/AdInsight\\\\/v11\\\\\"&gt;&lt;a:OperationError&gt;&lt;a:Code&gt;622&lt;\\\\/a:Code&gt;&lt;a:Details&gt;LocationId: 93 is not supported. &lt;\\\\/a:Details&gt;&lt;a:ErrorCode&gt;InvalidLocationId&lt;\\\\/a:ErrorCode&gt;&lt;a:Message&gt;The location id is invalid.&lt;\\\\/a:Message&gt;&lt;\\\\/a:OperationError&gt;&lt;\\\\/OperationErrors&gt;&lt;\\\\/ApiFaultDetail&gt;&lt;\\\\/detail&gt;&lt;\\\\/s:Fault&gt;&lt;\\\\/s:Body&gt;&lt;\\\\/s:Envelope&gt;<\\\\/span><\\\\/p><p><\\\\/p><p class=\\\\\"contentCodeblock\\\\\"><span>The operation failed with the following faults:<\\\\/span><\\\\/p><p class=\\\\\"contentCodeblock\\\\\"><span>OperationError<\\\\/span><\\\\/p><p class=\\\\\"contentCodeblock\\\\\"><span>Code: 622<\\\\/span><\\\\/p><p class=\\\\\"contentCodeblock\\\\\"><span>Error Code: InvalidLocationId<\\\\/span><\\\\/p><p class=\\\\\"contentCodeblock\\\\\"><span>Message: The location id is invalid.<\\\\/span><\\\\/p><p><\\\\/p><p class=\\\\\"contentStandard\\\\\"><span>But in Geolocation file provided by bing have 93 as location ID. and i getting same error for\\\\u00a0 Japan for location Id 96.<\\\\/span><\\\\/p><p class=\\\\\"contentStandard\\\\\"><\\\\/p><p class=\\\\\"contentStandard\\\\\"><span>Please help<\\\\/span><\\\\/p><p class=\\\\\"contentStandard\\\\\"><span>thanks<\\\\/span><\\\\/p><p><\\\\/p><p><\\\\/p>\",\"3\":\"<p>I have created a list of places in Google Maps and exported them as a KML file. Bing Maps also has an export option and also claims to have an import option too (http:\\\\/\\\\/onlinehelp.microsoft.com\\\\/en-us\\\\/bing\\\\/ff808584.aspx). But I can\\'t find the import feature anywhere in the Bing Maps user interface.<\\\\/p><p><\\\\/p><p>Before I go too far saving places in either Bing Maps or Google Maps, I\\'d like to ensure I can exchange my saved places between them.\\\\u00a0<\\\\/p><p><\\\\/p><p>Can anyone help?<\\\\/p>\",\"4\":\"<p>Hello,<\\\\/p><p>I want to change my region in billing info but I can\\'t<\\\\/p><p>in this link : https:\\\\/\\\\/commerce.microsoft.com\\\\/PaymentHub\\\\/Profile?lang=en-us<\\\\/p><p>I can change everything except for country\\\\/region, any tips? thanks<\\\\/p>\"},\"question_upvotes\":{\"0\":387,\"1\":1,\"2\":0,\"3\":56,\"4\":10},\"answer_markedAsAnswer\":{\"0\":true,\"1\":true,\"2\":true,\"3\":true,\"4\":true},\"answer_createdAt\":{\"0\":\"November 26, 2013\",\"1\":\"November 7, 2017\",\"2\":\"January 2, 2018\",\"3\":\"July 15, 2014\",\"4\":\"December 9, 2015\"},\"answer_text\":{\"0\":\" This fix will most likely solve your problems, simply do this\\\\u00a0<div><br\\\\/><\\\\/div><div><p><span>FILE - Account Settings - Account Settings - Change - More Settings - Advanced<\\\\/span><br\\\\/><\\\\/p><div><p>Where it says Folders - Root folder path:<\\\\/p><p>Then enter the word: \\\\u00a0 \\\\u00a0inbox<\\\\/p><p><br\\\\/><\\\\/p><p>I got this info from this forum post here and it worked for me \\\\u00a0<a href=\\\\\"http:\\\\/\\\\/social.technet.microsoft.com\\\\/Forums\\\\/office\\\\/en-US\\\\/e5cf9882-82e9-4710-832f-186c38941558\\\\/imap-problem-with-outlook-2013-since-actual-patchday?forum=outlook\\\\\" rel=\\\\\"noreferrer\\\\\" target=\\\\\"_blank\\\\\">http:\\\\/\\\\/social.technet.microsoft.com\\\\/Forums\\\\/office\\\\/en-US\\\\/e5cf9882-82e9-4710-832f-186c38941558\\\\/imap-problem-with-outlook-2013-since-actual-patchday?forum=outlook<\\\\/a>\\\\u00a0<\\\\/p><\\\\/div><\\\\/div>\",\"1\":\"<p>Hi Joe,<\\\\/p><p><\\\\/p><p><span style=\\\\\"color:#333333\\\\\">Thank you for your request!<\\\\/span><span> <\\\\/span><\\\\/p><p><\\\\/p><p><span style=\\\\\"color:#333333\\\\\">For the best answers on Bing Ads API we do recommend that you visit our developers forum at<a href=\\\\\"https:\\\\/\\\\/social.msdn.microsoft.com\\\\/forums\\\\/en-us\\\\/home?forum=BingAds\\\\\" rel=\\\\\"noreferrer\\\\\" target=\\\\\"_blank\\\\\"><span style=\\\\\"color:#0000ff\\\\\">Bing Ads API Forum<\\\\/span><\\\\/a>\\\\u00a0In that forum you will find many developers who work with our API everyday and will be better equipped to answer your question.<\\\\/span><\\\\/p><p><\\\\/p><p><span style=\\\\\"color:#333333\\\\\">If you are unable to find the answer, here is the link to instructions for contacting the API support channel directly<a href=\\\\\"https:\\\\/\\\\/social.msdn.microsoft.com\\\\/Forums\\\\/en-US\\\\/86871946-1276-4181-82ef-2fa9d7c113f4\\\\/engaging-support?forum=BingAds\\\\\" rel=\\\\\"noreferrer\\\\\" target=\\\\\"_blank\\\\\"><span style=\\\\\"color:#0000ff\\\\\">Engaging Support<\\\\/span><\\\\/a><\\\\/span><\\\\/p><p><\\\\/p><p>We hope this helps!<\\\\/p><p><\\\\/p><p>Thank you,<\\\\/p><p><\\\\/p>\",\"2\":\"<p>Hi ChetanSingh1,<\\\\/p><p><\\\\/p><p><span style=\\\\\"color:black\\\\\">Thank you for reaching out to us! <\\\\/span><span style=\\\\\"color:black\\\\\">For the best response to your question, please post it in the<a href=\\\\\"https:\\\\/\\\\/social.msdn.microsoft.com\\\\/forums\\\\/en-us\\\\/home?forum=BingAds\\\\\" rel=\\\\\"noreferrer\\\\\" target=\\\\\"_blank\\\\\"><span style=\\\\\"color:#0000ff\\\\\">Bing Ads API Forum<\\\\/span><\\\\/a> where you will find many developers who will be able to help you with this issue.<\\\\/span><\\\\/p><p><span style=\\\\\"color:black\\\\\">\\\\u00a0<\\\\/span><\\\\/p><p><span style=\\\\\"color:black\\\\\">If you are unable to find the answer, here is the link to instructions for contacting the API support channel directly:\\\\u00a0<a href=\\\\\"https:\\\\/\\\\/social.msdn.microsoft.com\\\\/Forums\\\\/en-US\\\\/86871946-1276-4181-82ef-2fa9d7c113f4\\\\/engaging-support?forum=BingAds\\\\\" rel=\\\\\"noreferrer\\\\\" target=\\\\\"_blank\\\\\"><span style=\\\\\"color:#0000ff\\\\\">Engaging Support<\\\\/span><\\\\/a>.<\\\\/span><\\\\/p><p><span style=\\\\\"color:black\\\\\">\\\\u00a0<\\\\/span><\\\\/p><p><span style=\\\\\"color:black\\\\\">Sincerely,<\\\\/span><\\\\/p><p><\\\\/p>\",\"3\":\"<button class=\\\\\"thread-message-content-reply-action-button msaActionText\\\\\" data-bi-id=\\\\\"msgInReplyToLink\\\\\"><img alt=\\\\\"Reply\\\\\" class=\\\\\"thread-message-content-reply-to\\\\\" src=\\\\\"\\\\/static\\\\/images\\\\/inreplyto.svg\\\\\"\\\\/>In reply to GreenBeing\\'s post on July 15, 2014 <\\\\/b\",\"4\":\"<p>Hello,<\\\\/p><p><\\\\/p><p>I\\'ve edited the image to remove your PII.\\\\u00a0 Be careful posting personal info on a public community.\\\\u00a0<\\\\/p><p><\\\\/p><p><a href=\\\\\"http:\\\\/\\\\/answers.microsoft.com\\\\/en-us\\\\/page\\\\/faq#faqCodeConduct\\\\/message\\\\/faqCodeConduct5\\\\\">Community User Cautions<\\\\/a><\\\\/p><p><\\\\/p><p>\\\\\"Please be careful with your personal information. If you post your email address in a post, it may be used for any purpose by the general public, as this is a public community.<\\\\/p><li>Don\\'t post information that could be used by others to steal your identity, like your street address, your phone number, your social security number, or your credit card number.\\\\\"<p><\\\\/p><p><\\\\/p><p>At the bottom of the page, click on the World Icon (left) to select your display language and country\\\\/region.\\\\u00a0 See if that helps.<\\\\/p><\\\\/li>\"},\"answer_upvotes\":{\"0\":324,\"1\":0,\"2\":0,\"3\":0,\"4\":0}}'"
      ]
     },
     "execution_count": 139,
     "metadata": {},
     "output_type": "execute_result"
    }
   ],
   "source": [
    "data.head().to_json()"
   ]
  },
  {
   "cell_type": "code",
   "execution_count": 146,
   "metadata": {},
   "outputs": [],
   "source": [
    "task_params = {\n",
    "    1 : {\n",
    "        'label' : 'subcat',\n",
    "        'type' : 'classification',\n",
    "        'language' : 'en',\n",
    "        'prepare' : ''\n",
    "    },\n",
    "    2 : {\n",
    "        'label' : 'cat',\n",
    "        'type' : 'classification',\n",
    "        'language' : 'en',\n",
    "        'prepare' : ''\n",
    "    },\n",
    "    4 : {\n",
    "        'type' : 'qa',\n",
    "        'language' : 'en',\n",
    "        'prepare' : None\n",
    "    }\n",
    "}"
   ]
  },
  {
   "cell_type": "code",
   "execution_count": 148,
   "metadata": {},
   "outputs": [
    {
     "name": "stdout",
     "output_type": "stream",
     "text": [
      "1\n",
      "2\n",
      "4\n"
     ]
    }
   ],
   "source": [
    "for t in task_params.keys():\n",
    "    print(t)"
   ]
  },
  {
   "cell_type": "code",
   "execution_count": 132,
   "metadata": {},
   "outputs": [
    {
     "data": {
      "text/html": [
       "<div>\n",
       "<style scoped>\n",
       "    .dataframe tbody tr th:only-of-type {\n",
       "        vertical-align: middle;\n",
       "    }\n",
       "\n",
       "    .dataframe tbody tr th {\n",
       "        vertical-align: top;\n",
       "    }\n",
       "\n",
       "    .dataframe thead th {\n",
       "        text-align: right;\n",
       "    }\n",
       "</style>\n",
       "<table border=\"1\" class=\"dataframe\">\n",
       "  <thead>\n",
       "    <tr style=\"text-align: right;\">\n",
       "      <th></th>\n",
       "      <th>id</th>\n",
       "      <th>views</th>\n",
       "      <th>appliesTo</th>\n",
       "      <th>url</th>\n",
       "      <th>language</th>\n",
       "      <th>question_title</th>\n",
       "      <th>question_author</th>\n",
       "      <th>question_createdAt</th>\n",
       "      <th>question_text</th>\n",
       "      <th>question_upvotes</th>\n",
       "      <th>answer_markedAsAnswer</th>\n",
       "      <th>answer_createdAt</th>\n",
       "      <th>answer_text</th>\n",
       "      <th>answer_upvotes</th>\n",
       "    </tr>\n",
       "  </thead>\n",
       "  <tbody>\n",
       "    <tr>\n",
       "      <th>0</th>\n",
       "      <td>1</td>\n",
       "      <td>58771</td>\n",
       "      <td>msoffice,Outlook,Windows 8,Office 365 Home</td>\n",
       "      <td>http://answers.microsoft.com/en-us/office/foru...</td>\n",
       "      <td>en-us</td>\n",
       "      <td>Unable to delete emails - message: The operati...</td>\n",
       "      <td>ChristopherStringer</td>\n",
       "      <td>2013-11-21T20:45:35</td>\n",
       "      <td>&lt;p&gt;I had problems updating from Windows 8 to W...</td>\n",
       "      <td>387</td>\n",
       "      <td>True</td>\n",
       "      <td>November 26, 2013</td>\n",
       "      <td>This fix will most likely solve your problems...</td>\n",
       "      <td>324</td>\n",
       "    </tr>\n",
       "    <tr>\n",
       "      <th>1</th>\n",
       "      <td>2</td>\n",
       "      <td>557</td>\n",
       "      <td>band,Microsoft Band,Microsoft Health app</td>\n",
       "      <td>https://answers.microsoft.com/en-us/band/forum...</td>\n",
       "      <td>en-us</td>\n",
       "      <td>MS Band: An error occurred! on Dashboard</td>\n",
       "      <td>maciejkoplin</td>\n",
       "      <td>2017-08-05T16:27:22</td>\n",
       "      <td>&lt;p&gt;I have a strange problem with my Dashboard ...</td>\n",
       "      <td>48</td>\n",
       "      <td>False</td>\n",
       "      <td>August 5, 2017</td>\n",
       "      <td>&lt;p&gt;Exactly the same issue both on my phone and...</td>\n",
       "      <td>0</td>\n",
       "    </tr>\n",
       "    <tr>\n",
       "      <th>2</th>\n",
       "      <td>3</td>\n",
       "      <td>78</td>\n",
       "      <td>bing,Bing Ads,Bing Ads customers,Account login...</td>\n",
       "      <td>https://answers.microsoft.com/en-us/bing/forum...</td>\n",
       "      <td>en-us</td>\n",
       "      <td>AddClientLinks API call fails with internal er...</td>\n",
       "      <td>JonOler</td>\n",
       "      <td>2017-06-01T06:57:23</td>\n",
       "      <td>&lt;p class=\"contentStandard\"&gt;I am attempting to ...</td>\n",
       "      <td>1</td>\n",
       "      <td>False</td>\n",
       "      <td>June 1, 2017</td>\n",
       "      <td>&lt;p&gt;Hi Jon,&lt;/p&gt;&lt;p&gt;&lt;/p&gt;&lt;p&gt;Your issue is more com...</td>\n",
       "      <td>0</td>\n",
       "    </tr>\n",
       "    <tr>\n",
       "      <th>3</th>\n",
       "      <td>4</td>\n",
       "      <td>119</td>\n",
       "      <td>bing,Bing Ads,Bing Ads customers,Universal Eve...</td>\n",
       "      <td>https://answers.microsoft.com/en-us/bing/forum...</td>\n",
       "      <td>en-us</td>\n",
       "      <td>API WebFault deserialize parameter in Python</td>\n",
       "      <td>Joe Heffer</td>\n",
       "      <td>2017-11-07T17:09:27</td>\n",
       "      <td>&lt;p&gt;Hi all,&lt;/p&gt;&lt;p&gt;&lt;/p&gt;&lt;p&gt;I have some working Py...</td>\n",
       "      <td>1</td>\n",
       "      <td>True</td>\n",
       "      <td>November 7, 2017</td>\n",
       "      <td>&lt;p&gt;Hi Joe,&lt;/p&gt;&lt;p&gt;&lt;/p&gt;&lt;p&gt;&lt;span style=\"color:#33...</td>\n",
       "      <td>0</td>\n",
       "    </tr>\n",
       "    <tr>\n",
       "      <th>4</th>\n",
       "      <td>5</td>\n",
       "      <td>26</td>\n",
       "      <td>bing,Other,Developers and webmasters</td>\n",
       "      <td>https://answers.microsoft.com/en-us/bing/forum...</td>\n",
       "      <td>en-us</td>\n",
       "      <td>Bing ads api InvalidLocationId error for Italy...</td>\n",
       "      <td>ChetanSingh1</td>\n",
       "      <td>2018-01-02T18:14:01</td>\n",
       "      <td>&lt;p&gt;Hi, &lt;/p&gt;&lt;p&gt;I am using Bing Ads PHP API and ...</td>\n",
       "      <td>0</td>\n",
       "      <td>True</td>\n",
       "      <td>January 2, 2018</td>\n",
       "      <td>&lt;p&gt;Hi ChetanSingh1,&lt;/p&gt;&lt;p&gt;&lt;/p&gt;&lt;p&gt;&lt;span style=\"...</td>\n",
       "      <td>0</td>\n",
       "    </tr>\n",
       "  </tbody>\n",
       "</table>\n",
       "</div>"
      ],
      "text/plain": [
       "   id  views                                          appliesTo  \\\n",
       "0   1  58771         msoffice,Outlook,Windows 8,Office 365 Home   \n",
       "1   2    557           band,Microsoft Band,Microsoft Health app   \n",
       "2   3     78  bing,Bing Ads,Bing Ads customers,Account login...   \n",
       "3   4    119  bing,Bing Ads,Bing Ads customers,Universal Eve...   \n",
       "4   5     26               bing,Other,Developers and webmasters   \n",
       "\n",
       "                                                 url language  \\\n",
       "0  http://answers.microsoft.com/en-us/office/foru...    en-us   \n",
       "1  https://answers.microsoft.com/en-us/band/forum...    en-us   \n",
       "2  https://answers.microsoft.com/en-us/bing/forum...    en-us   \n",
       "3  https://answers.microsoft.com/en-us/bing/forum...    en-us   \n",
       "4  https://answers.microsoft.com/en-us/bing/forum...    en-us   \n",
       "\n",
       "                                      question_title      question_author  \\\n",
       "0  Unable to delete emails - message: The operati...  ChristopherStringer   \n",
       "1           MS Band: An error occurred! on Dashboard         maciejkoplin   \n",
       "2  AddClientLinks API call fails with internal er...              JonOler   \n",
       "3       API WebFault deserialize parameter in Python           Joe Heffer   \n",
       "4  Bing ads api InvalidLocationId error for Italy...         ChetanSingh1   \n",
       "\n",
       "    question_createdAt                                      question_text  \\\n",
       "0  2013-11-21T20:45:35  <p>I had problems updating from Windows 8 to W...   \n",
       "1  2017-08-05T16:27:22  <p>I have a strange problem with my Dashboard ...   \n",
       "2  2017-06-01T06:57:23  <p class=\"contentStandard\">I am attempting to ...   \n",
       "3  2017-11-07T17:09:27  <p>Hi all,</p><p></p><p>I have some working Py...   \n",
       "4  2018-01-02T18:14:01  <p>Hi, </p><p>I am using Bing Ads PHP API and ...   \n",
       "\n",
       "   question_upvotes  answer_markedAsAnswer   answer_createdAt  \\\n",
       "0               387                   True  November 26, 2013   \n",
       "1                48                  False     August 5, 2017   \n",
       "2                 1                  False       June 1, 2017   \n",
       "3                 1                   True   November 7, 2017   \n",
       "4                 0                   True    January 2, 2018   \n",
       "\n",
       "                                         answer_text  answer_upvotes  \n",
       "0   This fix will most likely solve your problems...             324  \n",
       "1  <p>Exactly the same issue both on my phone and...               0  \n",
       "2  <p>Hi Jon,</p><p></p><p>Your issue is more com...               0  \n",
       "3  <p>Hi Joe,</p><p></p><p><span style=\"color:#33...               0  \n",
       "4  <p>Hi ChetanSingh1,</p><p></p><p><span style=\"...               0  "
      ]
     },
     "execution_count": 132,
     "metadata": {},
     "output_type": "execute_result"
    }
   ],
   "source": [
    "data.head()"
   ]
  },
  {
   "cell_type": "code",
   "execution_count": 11,
   "metadata": {},
   "outputs": [],
   "source": [
    "cl = pr.Clean(language='en')"
   ]
  },
  {
   "cell_type": "code",
   "execution_count": 46,
   "metadata": {},
   "outputs": [
    {
     "name": "stdout",
     "output_type": "stream",
     "text": [
      "Wall time: 383 ms\n"
     ]
    }
   ],
   "source": [
    "%%time\n",
    "title_clean = cl.transform(data.question_title,\n",
    "                          do_remove=True,\n",
    "                          do_placeholder=True)\n"
   ]
  },
  {
   "cell_type": "code",
   "execution_count": 47,
   "metadata": {},
   "outputs": [
    {
     "name": "stdout",
     "output_type": "stream",
     "text": [
      "Wall time: 14.7 s\n"
     ]
    }
   ],
   "source": [
    "%%time\n",
    "body_clean = cl.transform(data.question_text,\n",
    "                          do_remove=True,\n",
    "                          do_placeholder=True)"
   ]
  },
  {
   "cell_type": "code",
   "execution_count": 48,
   "metadata": {},
   "outputs": [
    {
     "data": {
      "text/plain": [
       "['Unable to delete emails - message: The operation cannot be performed because the object has been deleted',\n",
       " 'MS Band: An error occurred! on Dashboard',\n",
       " 'AddClientLinks API call fails with internal error when ClientAccountNumber is used',\n",
       " 'API WebFault deserialize parameter in Python',\n",
       " 'How do I import places into Bing Maps?',\n",
       " 'Change my region in billing info?',\n",
       " \"I can't log out of Bing\",\n",
       " \"I can't log out of Bing\",\n",
       " 'Does MS Edge browser support Iframe code?',\n",
       " 'Does MS Edge browser support Iframe code?',\n",
       " 'Website is causing loss of internet connection',\n",
       " 'Edge has a problem when javascript alert() is too big',\n",
       " 'Edge Pinned Sites - Live Tiles',\n",
       " 'Microsoft Edge and HTML forms',\n",
       " \"Windows PNS won't load my page just random words.\",\n",
       " 'Changes to email notifications 1 February 2013',\n",
       " 'Changes to email notifications 1 February 2013',\n",
       " 'Changes to email notifications 1 February 2013',\n",
       " 'Missing Items in this Forum',\n",
       " 'No E-mail response when others reply']"
      ]
     },
     "execution_count": 48,
     "metadata": {},
     "output_type": "execute_result"
    }
   ],
   "source": [
    "title_clean[0:20]"
   ]
  },
  {
   "cell_type": "code",
   "execution_count": 49,
   "metadata": {},
   "outputs": [
    {
     "data": {
      "text/plain": [
       "['I had problems updating from Windows 8 to Windows  PTI . This was resolved today by MS on a remote session but as my Microsoft\\xa0 account was corrupt they had to close it and reopen one using same email address. Everything has been reinstated including OFFICE 365, however if I try to delete an email I get a message \"The operation cannot be performed because the object has been deleted\".The other problem is sending emails. I thought they were getting stuck in the Outbox until I received a reply to one. So it appears they are being sent but staying in the Outbox rather than dropping into the sent folder. Not sure which problem is the most serious but really cannot live with either. Support is closed, so wonder if anyone has any ideas what I could try.',\n",
       " 'I have a strange problem with my Dashboard MS Band, on my computer, on my phone, anywhere. When I try go to the Dashboard I have information:An error occurred! Something went wrong. Please wait a moment and try again. Sometimessigning out and signing back in can help fix the issue. ',\n",
       " 'I am attempting to use the AddClientLinks API call to link to client Bing accounts. However, it is failing with the error: \"Internal system error. Chack the SOAP fault details for more information\" (there doesn\\'t actually appear to be any more information in the \"SOAP fault details\". If I change the API call to use the ClientAccountId instead of ClientAccountNumber, then the API call works just fine. The Bing Ads API docs ( PUR  say: \"When adding a client link, either the ClientAccountId or ClientAccountNumber is required, but specifying both will cause the operation to fail.\" Therefore, I don\\'t understand why the AddClientLinks API call fails when I send the ClientAccountNumber, but it succeeds when I send the ClientAccountId. Here is the SOAP request that is failing:ID: 20\\xa0 \\xa0 Address:  PUR \\xa0 \\xa0 Encoding: UTF-8\\xa0 \\xa0 Http-Method: POST\\xa0 \\xa0 Content-Type: text/xml\\xa0 \\xa0 Headers: {Accept=[*/*], SOAPAction=[\"AddClientLinks\"], User-Agent=[BingAdsSDKJava  PTI .13]}\\xa0 \\xa0 Payload:&lt;soap:Envelope xmlns:soap=\" PUR \"&gt;\\xa0 &lt;SOAP-ENV:Header xmlns:SOAP-ENV=\" PUR \"&gt;\\xa0 \\xa0 &lt;AuthenticationToken xmlns=\" PUR \"&gt;\\xa0 \\xa0 \\xa0 Blah\\xa0 \\xa0 &lt;/AuthenticationToken&gt;\\xa0 \\xa0 &lt;CustomerAccountId xmlns=\" PUR \"&gt;-9223372036854775808&lt;/CustomerAccountId&gt;\\xa0 \\xa0 &lt;CustomerId xmlns=\" PUR \"&gt;7029169&lt;/CustomerId&gt;\\xa0 \\xa0 &lt;DeveloperToken xmlns=\" PUR \"&gt;Blah&lt;/DeveloperToken&gt;\\xa0 &lt;/SOAP-ENV:Header&gt;\\xa0 &lt;soap:Body&gt;\\xa0 \\xa0 &lt;AddClientLinksRequest xmlns=\" PUR \"\\xa0 \\xa0 \\xa0 \\xa0 \\xa0 \\xa0 \\xa0 \\xa0 \\xa0 \\xa0 \\xa0 \\xa0 \\xa0 \\xa0xmlns:ns2=\" PUR \" xmlns:ns3=\" PUR \"\\xa0 \\xa0 \\xa0 \\xa0 \\xa0 \\xa0 \\xa0 \\xa0 \\xa0 \\xa0 \\xa0 \\xa0 \\xa0 \\xa0xmlns:ns4=\" PUR \"\\xa0 \\xa0 \\xa0 \\xa0 \\xa0 \\xa0 \\xa0 \\xa0 \\xa0 \\xa0 \\xa0 \\xa0 \\xa0 \\xa0xmlns:ns5=\" PUR  PTI /System.Collections.Generic\"\\xa0 \\xa0 \\xa0 \\xa0 \\xa0 \\xa0 \\xa0 \\xa0 \\xa0 \\xa0 \\xa0 \\xa0 \\xa0 \\xa0xmlns:ns6=\" PUR  PTI /Serialization/Arrays\"\\xa0 \\xa0 \\xa0 \\xa0 \\xa0 \\xa0 \\xa0 \\xa0 \\xa0 \\xa0 \\xa0 \\xa0 \\xa0 \\xa0xmlns:ns7=\" PUR  PTI /Serialization/\"&gt;\\xa0 \\xa0 \\xa0 &lt;ClientLinks&gt;\\xa0 \\xa0 \\xa0 \\xa0 &lt;ns2:ClientLink&gt;\\xa0 \\xa0 \\xa0 \\xa0 \\xa0 &lt;ns2:ClientAccountId xmlns:xsi=\" PUR \" xsi:nil=\"true\"/&gt;\\xa0 \\xa0 \\xa0 \\xa0 \\xa0 &lt;ns2:ClientAccountNumber&gt;F110111F&lt;/ns2:ClientAccountNumber&gt;\\xa0 \\xa0 \\xa0 \\xa0 \\xa0 &lt;ns2:ManagingCustomerId&gt;7029169&lt;/ns2:ManagingCustomerId&gt;\\xa0 \\xa0 \\xa0 \\xa0 \\xa0 &lt;ns2:ManagingCustomerNumber xmlns:xsi=\" PUR \" xsi:nil=\"true\"/&gt;\\xa0 \\xa0 \\xa0 \\xa0 \\xa0 &lt;ns2:Note&gt;Finch is requesting access to your Bing account(s)&lt;/ns2:Note&gt;\\xa0 \\xa0 \\xa0 \\xa0 \\xa0 &lt;ns2:Name&gt;Finch Client Link&lt;/ns2:Name&gt;\\xa0 \\xa0 \\xa0 \\xa0 \\xa0 &lt;ns2:InviterEmail&gt;*** Email address is removed for privacy ***&lt;/ns2:InviterEmail&gt;\\xa0 \\xa0 \\xa0 \\xa0 \\xa0 &lt;ns2:InviterName&gt;Finch&lt;/ns2:InviterName&gt;\\xa0 \\xa0 \\xa0 \\xa0 \\xa0 &lt;ns2:InviterPhone&gt;1-855-275-7772&lt;/ns2:InviterPhone&gt;\\xa0 \\xa0 \\xa0 \\xa0 \\xa0 &lt;ns2:IsBillToClient&gt;true&lt;/ns2:IsBillToClient&gt;\\xa0 \\xa0 \\xa0 \\xa0 \\xa0 &lt;ns2:StartDate xmlns:xsi=\" PUR \" xsi:nil=\"true\"/&gt;\\xa0 \\xa0 \\xa0 \\xa0 \\xa0 &lt;ns2:Status xmlns:xsi=\" PUR \" xsi:nil=\"true\"/&gt;\\xa0 \\xa0 \\xa0 \\xa0 \\xa0 &lt;ns2:Timestamp xmlns:xsi=\" PUR \" xsi:nil=\"true\"/&gt;\\xa0 \\xa0 \\xa0 \\xa0 \\xa0 &lt;ns2:ForwardCompatibilityMap xmlns:xsi=\" PUR \" xsi:nil=\"true\"/&gt;\\xa0 \\xa0 \\xa0 \\xa0 &lt;/ns2:ClientLink&gt;\\xa0 \\xa0 \\xa0 &lt;/ClientLinks&gt;\\xa0 \\xa0 &lt;/AddClientLinksRequest&gt;\\xa0 &lt;/soap:Body&gt;&lt;/soap:Envelope&gt;Here is the response:\\xa0 \\xa0 --------------------------------------\\xa0 \\xa0 2017-06-01  PDT .476 \\xa0INFO --- [nio-8080-exec-5] o.a.c.s.C.I.ICustomerManagementService \\xa0 : Inbound Message\\xa0 \\xa0 ----------------------------\\xa0 \\xa0 ID: 20\\xa0 \\xa0 Response-Code: 500\\xa0 \\xa0 Encoding: UTF-8\\xa0 \\xa0 Content-Type: text/xml; charset=utf-8\\xa0 \\xa0 Headers: {Cache-Control=[private], Content-Length=[720], content-type=[text/xml; charset=utf-8], Date=[Thu, PNS Jun PNL  PDT  GMT], Server=[Microsoft-IIS/ PTI ], X-AspNet-Version=[ PTI .30319], X-Powered-By=[ASP.NET]}\\xa0 \\xa0 Payload: &lt;s:Envelope xmlns:s=\" PUR \"&gt;&lt;s:Body&gt;\\xa0 &lt;s:Fault&gt;\\xa0 \\xa0 &lt;faultcode&gt;s:Client&lt;/faultcode&gt;\\xa0 \\xa0 &lt;faultstring xml:lang=\"en-US\"&gt;Internal system error. Check the SOAP fault details for more information&lt;/faultstring&gt;\\xa0 \\xa0 &lt;detail&gt;\\xa0 \\xa0 \\xa0 &lt;ApiFault xmlns=\" PUR \" xmlns:a=\" PUR \"\\xa0 \\xa0 \\xa0 \\xa0 \\xa0 \\xa0 \\xa0 \\xa0 xmlns:i=\" PUR \"&gt;\\xa0 \\xa0 \\xa0 \\xa0 &lt;TrackingId xmlns=\" PUR \"&gt;eed5d0ac-1a4e-41db-8885-ce33178eebea&lt;/TrackingId&gt;\\xa0 \\xa0 \\xa0 \\xa0 &lt;a:OperationErrors&gt;\\xa0 \\xa0 \\xa0 \\xa0 \\xa0 &lt;a:OperationError&gt;\\xa0 \\xa0 \\xa0 \\xa0 \\xa0 \\xa0 &lt;a:Code&gt;-1&lt;/a:Code&gt;\\xa0 \\xa0 \\xa0 \\xa0 \\xa0 \\xa0 &lt;a:Details/&gt;\\xa0 \\xa0 \\xa0 \\xa0 \\xa0 \\xa0 &lt;a:Message&gt;An internal error has occurred.&lt;/a:Message&gt;\\xa0 \\xa0 \\xa0 \\xa0 \\xa0 &lt;/a:OperationError&gt;\\xa0 \\xa0 \\xa0 \\xa0 &lt;/a:OperationErrors&gt;\\xa0 \\xa0 \\xa0 &lt;/ApiFault&gt;\\xa0 \\xa0 &lt;/detail&gt;\\xa0 &lt;/s:Fault&gt;&lt;/s:Body&gt;&lt;/s:Envelope&gt;I can\\'t really change my code to use ClientAccountId instead of ClientAccountNumber. Why does the exact same AddClientLinks API call fail when using ClientAccountNumber but succeeds when using ClientAccountId?Thanks in advance for your help,Jon',\n",
       " 'Hi all,I have some working Python code (I can request and download reports) which I\\'m trying to port into a Django application (which also uses the Google Adwords API for Python.) I\\'m using Python  PTI .2 in both cases.I\\'m getting the following errors:&lt;s:Envelope xmlns:s=\" PUR \"&gt;\\xa0 \\xa0 &lt;s:Body&gt;\\xa0 \\xa0 \\xa0 \\xa0 &lt;s:Fault&gt;\\xa0 \\xa0 \\xa0 \\xa0 \\xa0 \\xa0 &lt;faultcode xmlns:a=\" PUR  PTI /windowscommunicationfoundation/dispatcher\"&gt;a:DeserializationFailed&lt;/faultcode&gt;\\xa0 \\xa0 \\xa0 \\xa0 \\xa0 \\xa0 &lt;faultstring xml:lang=\"en-US\"&gt;The formatter threw an exception while trying to deserialize the message:\\xa0 \\xa0 \\xa0 \\xa0 \\xa0 \\xa0 There was an error while trying to deserialize parameter  PUR \\xa0\\xa0 \\xa0 \\xa0 \\xa0 \\xa0 \\xa0 The InnerException message was \\\\\\'There was an error deserializing the object of type Microsoft.AdCenter.Advertiser.Reporting.Api.DataContracts.Request.ReportRequest.\\xa0 \\xa0 \\xa0 \\xa0 \\xa0 \\xa0 The value \\\\\\'\\\\\\' cannot be parsed as the type \\\\\\'Int32\\\\\\'.\\\\\\'.\\xa0 Please see InnerException for more details.&lt;/faultstring&gt;\\xa0 \\xa0 \\xa0 \\xa0 &lt;/s:Fault&gt;\\xa0 \\xa0 &lt;/s:Body&gt;&lt;/s:Envelope&gt;\\'from this SOAP request:&lt;?xml version=\" PTI \" encoding=\"UTF-8\"?&gt;&lt;SOAP-ENV:Envelope xmlns:tns=\" PUR \" xmlns:xsi=\" PUR \" xmlns:ns0=\" PUR \" xmlns:SOAP-ENV=\" PUR \" xmlns:ns1=\" PUR \"&gt;\\xa0 \\xa0 &lt;SOAP-ENV:Header&gt;\\xa0 \\xa0 \\xa0 \\xa0 &lt;tns:CustomerAccountId&gt;********&lt;/tns:CustomerAccountId&gt;\\xa0 \\xa0 \\xa0 \\xa0 &lt;tns:CustomerId&gt;*********&lt;/tns:CustomerId&gt;\\xa0 \\xa0 \\xa0 \\xa0 &lt;tns:DeveloperToken&gt;BBD37VB98&lt;/tns:DeveloperToken&gt;\\xa0 \\xa0 \\xa0 \\xa0 &lt;tns:Password&gt;********&lt;/tns:Password&gt;\\xa0 \\xa0 \\xa0 \\xa0 &lt;tns:UserName&gt;joe_heffer_sbx&lt;/tns:UserName&gt;\\xa0 \\xa0 &lt;/SOAP-ENV:Header&gt;\\xa0 \\xa0 &lt;ns1:Body&gt;\\xa0 \\xa0 \\xa0 \\xa0 &lt;ns0:SubmitGenerateReportRequest&gt;\\xa0 \\xa0 \\xa0 \\xa0 \\xa0 \\xa0 &lt;ns0:ReportRequest xsi:type=\"ns0:KeywordPerformanceReportRequest\"&gt;\\xa0 \\xa0 \\xa0 \\xa0 \\xa0 \\xa0 \\xa0 \\xa0 &lt;ns0:ExcludeColumnHeaders&gt;false&lt;/ns0:ExcludeColumnHeaders&gt;\\xa0 \\xa0 \\xa0 \\xa0 \\xa0 \\xa0 \\xa0 \\xa0 &lt;ns0:ExcludeReportFooter&gt;true&lt;/ns0:ExcludeReportFooter&gt;\\xa0 \\xa0 \\xa0 \\xa0 \\xa0 \\xa0 \\xa0 \\xa0 &lt;ns0:ExcludeReportHeader&gt;true&lt;/ns0:ExcludeReportHeader&gt;\\xa0 \\xa0 \\xa0 \\xa0 \\xa0 \\xa0 \\xa0 \\xa0 &lt;ns0:Format&gt;Csv&lt;/ns0:Format&gt;\\xa0 \\xa0 \\xa0 \\xa0 \\xa0 \\xa0 \\xa0 \\xa0 &lt;ns0:Language&gt;English&lt;/ns0:Language&gt;\\xa0 \\xa0 \\xa0 \\xa0 \\xa0 \\xa0 \\xa0 \\xa0 &lt;ns0:ReportName&gt;Bing Report&lt;/ns0:ReportName&gt;\\xa0 \\xa0 \\xa0 \\xa0 \\xa0 \\xa0 \\xa0 \\xa0 &lt;ns0:ReturnOnlyCompleteData&gt;false&lt;/ns0:ReturnOnlyCompleteData&gt;\\xa0 \\xa0 \\xa0 \\xa0 \\xa0 \\xa0 \\xa0 \\xa0 &lt;ns0:Aggregation&gt;Daily&lt;/ns0:Aggregation&gt;\\xa0 \\xa0 \\xa0 \\xa0 \\xa0 \\xa0 \\xa0 \\xa0 &lt;ns0:Columns&gt;\\xa0 \\xa0 \\xa0 \\xa0 \\xa0 \\xa0 \\xa0 \\xa0 \\xa0 \\xa0 &lt;ns0:KeywordPerformanceReportColumn&gt;TimePeriod&lt;/ns0:KeywordPerformanceReportColumn&gt;\\xa0 \\xa0 \\xa0 \\xa0 \\xa0 \\xa0 \\xa0 \\xa0 \\xa0 \\xa0 &lt;ns0:KeywordPerformanceReportColumn&gt;Spend&lt;/ns0:KeywordPerformanceReportColumn&gt;\\xa0 \\xa0 \\xa0 \\xa0 \\xa0 \\xa0 \\xa0 \\xa0 &lt;/ns0:Columns&gt;\\xa0 \\xa0 \\xa0 \\xa0 \\xa0 \\xa0 \\xa0 \\xa0 &lt;ns0:Filter&gt;\\xa0 \\xa0 \\xa0 \\xa0 \\xa0 \\xa0 \\xa0 \\xa0 \\xa0 \\xa0 &lt;ns0:AdRelevance/&gt;\\xa0 \\xa0 \\xa0 \\xa0 \\xa0 \\xa0 \\xa0 \\xa0 \\xa0 \\xa0 &lt;ns0:ExpectedCtr/&gt;\\xa0 \\xa0 \\xa0 \\xa0 \\xa0 \\xa0 \\xa0 \\xa0 \\xa0 \\xa0 &lt;ns0:Keywords/&gt;\\xa0 \\xa0 \\xa0 \\xa0 \\xa0 \\xa0 \\xa0 \\xa0 \\xa0 \\xa0 &lt;ns0:LandingPageExperience/&gt;\\xa0 \\xa0 \\xa0 \\xa0 \\xa0 \\xa0 \\xa0 \\xa0 \\xa0 \\xa0 &lt;ns0:LanguageCode/&gt;\\xa0 \\xa0 \\xa0 \\xa0 \\xa0 \\xa0 \\xa0 \\xa0 \\xa0 \\xa0 &lt;ns0:QualityScore/&gt;\\xa0 \\xa0 \\xa0 \\xa0 \\xa0 \\xa0 \\xa0 \\xa0 &lt;/ns0:Filter&gt;\\xa0 \\xa0 \\xa0 \\xa0 \\xa0 \\xa0 \\xa0 \\xa0 &lt;ns0:Scope/&gt;\\xa0 \\xa0 \\xa0 \\xa0 \\xa0 \\xa0 \\xa0 \\xa0 &lt;ns0:Sort/&gt;\\xa0 \\xa0 \\xa0 \\xa0 \\xa0 \\xa0 \\xa0 \\xa0 &lt;ns0:Time&gt;\\xa0 \\xa0 \\xa0 \\xa0 \\xa0 \\xa0 \\xa0 \\xa0 \\xa0 \\xa0 &lt;ns0:CustomDateRangeEnd&gt;\\xa0 \\xa0 \\xa0 \\xa0 \\xa0 \\xa0 \\xa0 \\xa0 \\xa0 \\xa0 \\xa0 \\xa0 &lt;ns0:Day/&gt;\\xa0 \\xa0 \\xa0 \\xa0 \\xa0 \\xa0 \\xa0 \\xa0 \\xa0 \\xa0 \\xa0 \\xa0 &lt;ns0:Month/&gt;\\xa0 \\xa0 \\xa0 \\xa0 \\xa0 \\xa0 \\xa0 \\xa0 \\xa0 \\xa0 \\xa0 \\xa0 &lt;ns0:Year/&gt;\\xa0 \\xa0 \\xa0 \\xa0 \\xa0 \\xa0 \\xa0 \\xa0 \\xa0 \\xa0 &lt;/ns0:CustomDateRangeEnd&gt;\\xa0 \\xa0 \\xa0 \\xa0 \\xa0 \\xa0 \\xa0 \\xa0 \\xa0 \\xa0 &lt;ns0:CustomDateRangeStart&gt;\\xa0 \\xa0 \\xa0 \\xa0 \\xa0 \\xa0 \\xa0 \\xa0 \\xa0 \\xa0 \\xa0 \\xa0 &lt;ns0:Day/&gt;\\xa0 \\xa0 \\xa0 \\xa0 \\xa0 \\xa0 \\xa0 \\xa0 \\xa0 \\xa0 \\xa0 \\xa0 &lt;ns0:Month/&gt;\\xa0 \\xa0 \\xa0 \\xa0 \\xa0 \\xa0 \\xa0 \\xa0 \\xa0 \\xa0 \\xa0 \\xa0 &lt;ns0:Year/&gt;\\xa0 \\xa0 \\xa0 \\xa0 \\xa0 \\xa0 \\xa0 \\xa0 \\xa0 \\xa0 &lt;/ns0:CustomDateRangeStart&gt;\\xa0 \\xa0 \\xa0 \\xa0 \\xa0 \\xa0 \\xa0 \\xa0 \\xa0 \\xa0 &lt;ns0:PredefinedTime&gt;ThisYear&lt;/ns0:PredefinedTime&gt;\\xa0 \\xa0 \\xa0 \\xa0 \\xa0 \\xa0 \\xa0 \\xa0 &lt;/ns0:Time&gt;\\xa0 \\xa0 \\xa0 \\xa0 \\xa0 \\xa0 &lt;/ns0:ReportRequest&gt;\\xa0 \\xa0 \\xa0 \\xa0 &lt;/ns0:SubmitGenerateReportRequest&gt;\\xa0 \\xa0 &lt;/ns1:Body&gt;&lt;/SOAP-ENV:Envelope&gt;',\n",
       " \"I have created a list of places in Google Maps and exported them as a KML file. Bing Maps also has an export option and also claims to have an import option too ( PUR  But I can't find the import feature anywhere in the Bing Maps user interface.Before I go too far saving places in either Bing Maps or Google Maps, I'd like to ensure I can exchange my saved places between them.\\xa0Can anyone help?\",\n",
       " \"Hello,I want to change my region in billing info but I can'tin this link :  PUR  can change everything except for country/region, any tips? thanks\",\n",
       " \" I can't log out of Bing. Tried clearing cache and cookies also. \",\n",
       " \" I can't log out of Bing. Tried clearing cache and cookies also. \",\n",
       " 'The subscriber signup form at the bottom of my website (see link below) does not display in the MS Edge browser. I have to use Firefox or Chrome to see it. The website is created from a GoDdady editor. I\\'m hoping Microsoft can do something to fix this problem. Any suggestion would be appreciated.\\xa0Here is the HTML code for the signup form: &lt;iframe src=\" PUR \" scrolling=\"no\" frameborder=\"0\" height=\"518\" style=\"max-width: 400px; width: 100%;\"&gt;&lt;/iframe&gt;Link to website:  PUR ',\n",
       " 'The subscriber signup form at the bottom of my website (see link below) does not display in the MS Edge browser. I have to use Firefox or Chrome to see it. The website is created from a GoDdady editor. I\\'m hoping Microsoft can do something to fix this problem. Any suggestion would be appreciated.\\xa0Here is the HTML code for the signup form: &lt;iframe src=\" PUR \" scrolling=\"no\" frameborder=\"0\" height=\"518\" style=\"max-width: 400px; width: 100%;\"&gt;&lt;/iframe&gt;Link to website:  PUR ',\n",
       " ' I am having a strange problem. Every time I go to a certain website (sephora.com) on my laptop running windows PNS I lose my internet connection.\\xa0 I can not access any other website after sephora. The only way to get my connection back is to restart my computer. It is not my wifi router, all other devices and still connected and working fine.\\xa0 I can visit said website with my other devices (android tablet and phone) just not with my laptop. All other websites work fine on my laptop but every single time I go to sephora.com my internet connection is lost. I have checked my network adapter for updates (no updates found) and as I said the router is working fine. I am at a loss since everything works until I go to this one website. And it happens no matter which browser I use (I have tried Microsoft Edge, Google Chrome, and Mozilla Firefox)\\xa0 Any ideas? ',\n",
       " 'Please copy and save this as html, then open it with edge and IE.Edge gets locked up because the close button is\\xa0 dragged beyond the screen.IE works fine&lt;!DOCTYPE html&gt;&lt;html lang=\"en\"xmlns=\" PUR \"&gt;&lt;head&gt;&lt;meta charset=\"utf-8\"/&gt;&lt;title&gt;Alert bug IE edge&lt;/title&gt;&lt;script&gt;var test = \"This is a test\\\\r\\\\n\";var datx = \"\";function checkAlert() {for(i = 0; i &lt; 30; i++) {datx += test;}alert(datx); }\\xa0&lt;/script&gt;&lt;/head&gt;&lt;body onload=\"checkAlert()\"&gt;&lt;/body&gt;The attached image shows how\\xa0task manager used to end EDGE locked up',\n",
       " 'Pinned sites in windows PNS functionality does not work. When upgrading from windows  PTI .1 to windows PNS - any pinned sites under  PTI  \\'seem\\' to function ok, until they are unpinned and then re-pinned. Any newly pinned site in windows PNS does not function.All that seems to work is Edge will load the correct url from the pinned start menu tile, the tile image and tile colour seem to work. However the notification section fails to function. No images are loaded from the pinned website. I have tried this on a dozen or so PC\\'s updated to windows 10. It simply not longer functions, unless the pinned site was previously pinned in windows  PTI Here is example browserconfig.xml&lt;?xml version=\" PTI \" encoding=\"utf-8\"?&gt;\\xa0&lt;browserconfig&gt;\\xa0 &lt;msapplication&gt;\\xa0\\xa0 &lt;tile&gt;\\xa0\\xa0\\xa0 &lt;square7 src=\" PUR \" /&gt;\\xa0\\xa0\\xa0 &lt;square15 src=\" PUR \" /&gt;\\xa0\\xa0\\xa0 &lt;wide31 src=\" PUR \" /&gt;\\xa0\\xa0\\xa0 &lt;square31 src=\" PUR \" /&gt;\\xa0\\xa0\\xa0 &lt;TileColor&gt;#CCFFFF&lt;/TileColor&gt;\\xa0\\xa0 &lt;/tile&gt;\\xa0\\xa0 &lt;notification&gt;\\xa0\\xa0\\xa0 &lt;polling-uri src=\" PUR \" /&gt;\\xa0\\xa0\\xa0 &lt;polling-uri2 src=\" PUR \" /&gt;\\xa0\\xa0\\xa0 &lt;polling-uri3 src=\" PUR \" /&gt;\\xa0\\xa0\\xa0 &lt;polling-uri4 src=\" PUR \" /&gt;\\xa0\\xa0\\xa0 &lt;polling-uri5 src=\" PUR \" /&gt;\\xa0\\xa0\\xa0 &lt;frequency&gt;360&lt;/frequency&gt;\\xa0\\xa0\\xa0 &lt;cycle&gt;1&lt;/cycle&gt;\\xa0\\xa0 &lt;/notification&gt;\\xa0 &lt;/msapplication&gt;&lt;/browserconfig&gt;\\xa0Here is an example notification xml 1.xml&lt;tile&gt; \\xa0 &lt;visual lang=\"en-US\" version=\"2\"&gt;\\xa0\\xa0\\xa0 &lt;binding template=\"TileSquare150x150PeekImageAndText04\" branding=\"logo\"&gt;\\xa0\\xa0\\xa0\\xa0\\xa0 &lt;image id=\"1\" src=\" PUR \" /&gt;\\xa0\\xa0\\xa0\\xa0\\xa0 &lt;text id=\"1\"&gt;My Site&lt;/text&gt; \\xa0\\xa0\\xa0 &lt;/binding&gt;\\xa0\\xa0\\xa0 &lt;binding template=\"TileWide310x150ImageAndText01\" branding=\"logo\"&gt;\\xa0\\xa0\\xa0\\xa0\\xa0 &lt;image id=\"1\" src=\" PUR \" /&gt;\\xa0\\xa0\\xa0\\xa0\\xa0 &lt;text id=\"1\"&gt;My Site&lt;/text&gt; \\xa0\\xa0\\xa0 &lt;/binding&gt;\\xa0\\xa0\\xa0 &lt;binding template=\"TileSquare310x310ImageAndText02\" branding=\"logo\"&gt;\\xa0\\xa0\\xa0\\xa0\\xa0\\xa0 &lt;image id=\"1\" src=\" PUR \" /&gt;\\xa0\\xa0\\xa0\\xa0\\xa0 &lt;text id=\"1\"&gt;My Site&lt;/text&gt;\\xa0\\xa0\\xa0\\xa0\\xa0 &lt;text id=\"2\"&gt;My Site&lt;/text&gt;\\xa0\\xa0\\xa0 &lt;/binding&gt;\\xa0 &lt;/visual&gt;&lt;/tile&gt;It would appear that pinned sites are held in a database and the information never flushed out. It also appears the registry never flushes out unpinned site data:HKEY_CURRENT_USER\\\\SOFTWARE\\\\Microsoft\\\\Windows\\\\CurrentVersion\\\\PushNotifications\\\\wpnidm**Post moved by the moderator to the appropriate category**',\n",
       " \"I cannot get my html forms to submit, when the user presses the Enter key.\\xa0 This only happens in Microsoft Edge.\\xa0 It works fine in IE, Chrome, and Firefox. \\xa0\\xa0I have multiple input fields, so I also have the necessary input type=submit button. \\xa0The form will submit (in Edge) if I hit Enter twice, but not the first time.\\xa0 This is annoying and my users won't know to hit Enter twice.\\xa0 They could hit the submit button, but I'd like to be able to just user Enter for desktop users.\\xa0Anyone experience the same problem, or have any suggestions?\\xa0-Doreen\",\n",
       " 'I upgraded to Windows PNS and I really do like but I only have ONE BIG\\xa0problemand ONE SMALL problem.1.) Big Problem- I enter something in the URL bar and sometime the page loads BUT then there is time where the page will not load and just gives me this -&gt;\\xa0&lt;!DOCTYPE html&gt;&lt;html lang=\"en\" xml:lang=\"en\" xmlns=\" PUR \" xmlns:Web=\" PUR \"&gt;&lt;script type=\"text/javascript\"&gt;//&lt;![CDATA[si_ST=new Date;//]]&gt;&lt;/script&gt;&lt;head&gt;&lt;meta content=\"text/html; charset=utf-8\" http-equiv=\"content-type\" /&gt;&lt;!--pc--&gt;&lt;title&gt;wells fargo - Bing&lt;/title&gt;&lt;meta name=\"referrer\" content=\"origin\"/&gt;&lt;link href=\"/search?format=rss&amp;amp;q=wells%20fargo//]]&gt;&lt;/script&gt;&lt;/body&gt;&lt;/html&gt;..2.) Small Problem- After I upgraded to Windows PNS it made opening anything and run anything other the Microsoft edge slow.Question- Why is this happing?P.S- I have already tried running the trouble shooting trick and just helped a little, thank you for reading and help.',\n",
       " 'Gerry Cornell\\'s eagle eye spotted the change in sender name for notifications. Another poster\\'s problems alerted me to another change, much for the worse as far as I can tell.\\xa0If a new user tries to reply to a notification email, it will bounce. The bounce message used to be fairly innocuous, but it wasn\\'t particularly intelligible for the average user. The new bounce message is so horrendous that it would scare any user into thinking he\\'d acquired a terminal virus ailment. Try for yourselves, or read on below the line.If the new mail system is so sophisticated,\\xa0is it not possible to arrange for bounce messages from Microsoft Community\\xa0&lt;MicrosoftAnswers @ microsoft.com&gt; to be a bit more friendly?Here\\'s a bounce message, accompanied by an NDR as an attached text file. Note that it\\'s sent by postmaster @ microsoft.onmicrosoft.com and\\xa0doesn\\'t actually say what the message was that bounced - only its headers:\\xa0mail.microsoft.com rejected your message to the following email addresses:\\xa0Microsoft Community (MicrosoftAnswers @ microsoft.com)mail.microsoft.com gave this error:User unknown The email address you entered couldn\\'t be found. Please check the recipient\\'s email address and try to resend the message. If the problem continues, please contact your helpdesk.\\xa0Diagnostic information for administrators:Generating server: BY2FFO11HUB019.mail.protection.outlook.comMicrosoftAnswers @ microsoft.commail.microsoft.comRemote Server returned \\'550  PTI .1 User unknown\\'#Original message headers:Received: from BY2FFO11FD004.protection.gbl ( PTI . PTI 2) by BY2FFO11HUB019.protection.gbl ( PTI . PTI 8) with Microsoft SMTP Server (TLS) id  PTI .5 PTI ; Fri, 1 Feb PNL  PDT  Received: from dub0-omc4-s23.dub0.hotmail.com (1 PTI . PTI ) by BY2FFO11FD004.mail.protection.outlook.com ( PTI . PTI 8) with Microsoft SMTP Server id  PTI .6 PTI  via Frontend Transport; Fri, 1 Feb PNL  PDT  Received: from DUB112-DS18 ([1 PTI . PTI ]) by dub0-omc4-s23.dub0.hotmail.com with Microsoft SMTPSVC( PTI .37 PTI 75);\\t Fri, 1 Feb PNL  PDT  -0800X-EIP: [zgQxmSgrglYM8S4GKqDTOP9n3iUpDEr2]X-Originating-Email: [jnllb @ msn.com]Message-ID: &lt;DUB112-DS18868E11FE720EACB498D4A31C0 @ phx.gbl&gt;Return-Path: jnllb @ msn.comFrom: \"J. N. Ll. Burgess\" &lt;jnllb @ msn.com&gt;To: Microsoft Community &lt;MicrosoftAnswers @ microsoft.com&gt;References: &lt;CO1MSSCPSLWB10rM3Tb000013c4 @ CO1MSSCPSLWB10.phx.gbl&gt;In-Reply-To: &lt;CO1MSSCPSLWB10rM3Tb000013c4 @ CO1MSSCPSLWB10.phx.gbl&gt;Subject:  Site bugs historyDate: Fri, 1 Feb PNL  PDT  MIME-Version:  PTI Content-Type: multipart/alternative;\\tboundary=\"----=_NextPart_000_02B9_01CE00D6.C9C538F0\"X-Priority: 3X-MSMail-Priority: NormalImportance: NormalX-Mailer: Microsoft Windows Live Mail  PTI .35 PTI 2X-MimeOLE: Produced By Microsoft MimeOLE V PTI .35 PTI 2X-OriginalArrivalTime: PNS Feb PNL  PDT .0459 (UTC) FILETIME=[F3432BB PTI CE00D6]X-Forefront-Antispam-Report: CIP:1 PTI . PTI ;CTRY:US;IPV:NLI;EFV:NLI;SFV:NSPM;SFS:(377454001)(199002)(189002)(59766001)(79102001)(74662001)(77982001)(56816002)(307094002)(4396001)(56776001)(16406001)(33656001)(5343635001)(76482001)(54316002)(551544001)(47976001)(49866001)(62236002)(47446002)(20776003)(15202345001)(50986001)(47736001)(44976002)(31966008)(46316001)(46102001)(1511001)(512874001)(74502001)(53806001)(63696002)(51856001)(50226001)(16372001);DIR:INB;SFP:;SCL:1;SRVR:BY2FFO11HUB019;H:dub0-omc4-s23.dub0.hotmail.com;RD:dub0-omc4-s23.dub0.hotmail.com;A:3;MX:3;LANG:en;Received: from BY2FFO11FD004.protection.gbl ( PTI . PTI 2) by\\xa0BY2FFO11HUB019.protection.gbl ( PTI . PTI 8) with Microsoft SMTP Server (TLS)\\xa0id  PTI .5 PTI ; Fri, 1 Feb PNL  PDT  Received: from dub0-omc4-s23.dub0.hotmail.com (1 PTI . PTI ) by\\xa0BY2FFO11FD004.mail.protection.outlook.com ( PTI . PTI 8) with Microsoft SMTP\\xa0Server id  PTI .6 PTI  via Frontend Transport; Fri, 1 Feb PNL  PDT  Received: from DUB112-DS18 ([1 PTI . PTI ]) by dub0-omc4-s23.dub0.hotmail.com\\xa0with Microsoft SMTPSVC( PTI .37 PTI 75); Fri, 1 Feb PNL  PDT  -0800X-EIP: [zgQxmSgrglYM8S4GKqDTOP9n3iUpDEr2]X-Originating-Email: [jnllb @ msn.com]Message-ID: &lt;DUB112-DS18868E11FE720EACB498D4A31C0 @ phx.gbl&gt;Return-Path: jnllb @ msn.comFrom: \"J. N. Ll. Burgess\" &lt;jnllb @ msn.com&gt;To: Microsoft Community &lt;MicrosoftAnswers @ microsoft.com&gt;References: &lt;CO1MSSCPSLWB10rM3Tb000013c4 @ CO1MSSCPSLWB10.phx.gbl&gt;In-Reply-To: &lt;CO1MSSCPSLWB10rM3Tb000013c4 @ CO1MSSCPSLWB10.phx.gbl&gt;Subject:  Site bugs historyDate: Fri, 1 Feb PNL  PDT  MIME-Version:  PTI Content-Type: multipart/alternative;boundary=\"----=_NextPart_000_02B9_01CE00D6.C9C538F0\"X-Priority: 3X-MSMail-Priority: NormalImportance: NormalX-Mailer: Microsoft Windows Live Mail  PTI .35 PTI 2X-MimeOLE: Produced By Microsoft MimeOLE V PTI .35 PTI 2X-OriginalArrivalTime: PNS Feb PNL  PDT .0459 (UTC)\\xa0FILETIME=[F3432BB PTI CE00D6]X-MS-Exchange-Organization-OriginalArrivalTime: PNS Feb PNL  PDT .3697\\xa0(UTC)X-MS-Exchange-Forest-ArrivalHubServer: BY2FFO11FD004.protection.gblX-MS-Exchange-Organization-OriginalClientIPAddress: 1 PTI . PTI X-MS-Exchange-Organization-OriginalServerIPAddress:  PTI . PTI 8X-MS-Exchange-Organization-MessageDirectionality: IncomingX-MS-Exchange-Organization-Id: 72f988bf-86f1-41af-91ab-2d7cd011db47X-MS-Exchange-Organization-InboundConnectorFilteringSettings: 7X-MS-Exchange-Organization-FFO-ServiceTag: NA01BX-Forefront-Antispam-Report:\\xa0CIP:1 PTI . PTI ;CTRY:US;IPV:NLI;EFV:NLI;SFV:NSPM;SFS:(377454001)(199002)(189002)(59766001)(79102001)(74662001)(77982001)(56816002)(307094002)(4396001)(56776001)(16406001)(33656001)(5343635001)(76482001)(54316002)(551544001)(47976001)(49866001)(62236002)(47446002)(20776003)(15202345001)(50986001)(47736001)(44976002)(31966008)(46316001)(46102001)(1511001)(512874001)(74502001)(53806001)(63696002)(51856001)(50226001)(16372001);DIR:INB;SFP:;SCL:1;SRVR:BY2FFO11HUB019;H:dub0-omc4-s23.dub0.hotmail.com;RD:dub0-omc4-s23.dub0.hotmail.com;A:3;MX:3;LANG:en;X-MS-Exchange-Organization-Originating-Country: USX-MS-Exchange-Organization-Cross-Premises-Headers-Processed: BY2FFO11FD004.protection.gblX-MS-Exchange-Organization-MessageLatencyInProgress:\\xa0LSRV=BY2FFO11HUB019.protection.gbl:TOTAL=2|SRT=1|SMR=1|CATRS-Spam Filter\\xa0Agent=1|CATRS=1|CAT=1;2013-02-01T PDT .158ZX-MS-Exchange-Organization-AuthSource: BY2FFO11FD004.protection.gblX-MS-Exchange-Organization-AuthAs: AnonymousX-MS-Exchange-Organization-Network-Message-Id:\\xa0e4cbe96f-4278-4bfd-b539-08cfceee169cX-MS-Exchange-Organization-OriginalSize: 10777X-MS-Exchange-Organization-HygienePolicy: StandardX-MS-Exchange-Organization-MessageLatency:\\xa0SRV=BY2FFO11FD004.protection.gbl:TOTAL=0X-MS-Exchange-Organization-AVStamp-Service:  PTI X-MS-Exchange-Organization-Rules-Execution-History:\\xa0TransportVersioned.O365+AF8-ENT+AF8-LEGACY: Allow (whitelist) SMTP\\xa0address%%%TransportVersioned.O365+AF8-ENT+AF8-LEGACY: Allow (whitelist)\\xa0domain%%%TransportVersioned.O365+AF8-ENT: Allow (whitelist) domain from IP\\xa00001%%%TransportVersioned.O365+AF8-ENT: Allow (whitelist) domain from IP\\xa00002%%%TransportVersioned.O365+AF8-ENT: Allow (whitelist) domain from IP\\xa00003%%%TransportVersioned.O365+AF8-ENT: Allow (whitelist) SMTP address from\\xa0IP 0001%%%TransportVersioned.O365+AF8-ENT: Reject messages from SMTP address\\xa0and send NDR%%%TransportVersioned.O365+AF8-ENT: Reject messages w/ text\\xa0pattern and do NOT send NDR%%%TransportVersioned.O365+AF8-ENT: Reject\\xa0messages from sender and do NOT send NDR%%%TransportVersioned.O365+AF8-ENT:\\xa0Force TLS from domains%%%TransportVersioned.SECURITY: Redirect to Global\\xa0Investigator 001%%%TransportVersioned.Sender IPv4 address is\\xa0\\' PTI . PTI 9\\'%%%TransportVersioned.Sender IPv4 address is \\' PIP \\'\\xa0or \\' PIP \\'...%%%TransportVersioned.Sender IP is \\' PDT .135\\' and\\xa0domain is mailapp.sirota.com%%%TransportVersioned.Sender IPv4 address is\\xa0\\'1 PDT .23\\' or \\'1 PDT .22\\'%%%TransportVersioned.test SCL ruleX-MS-Exchange-Forest-RulesExecuted: BY2FFO11HUB019X-MS-Exchange-Organization-SCL: 1X-MS-Exchange-Organization-Antispam-ScanContext: DIR:Incoming;SFV:NSPM;SKIP:0X-MS-Exchange-Forest-IndexAgent-0:\\xa0AAFlAwAADwAAAx+LCAAAAAAABABtU8GO2zYQpdeWZNEhih5yn57SpA\\xa0tjt735kgaLOF2gizibpkVR9EBJY4tZiTRIah0B+Zn+Sv+if9Mh6XUS\\xa0IAAhj8Yzb957HP1XCP5Ha6Ayg67RgW+Vgx6dkzt8Lvjamn4FN6q2xp\\xa0mthyvT94NWfhT8LWq/grVVjRzPYY2VHaQd4eLyHH68uPwJLleXF7C5\\xa0Efw3s4L3uuuqH6R2B7Tu597pZW16whiq91gTzFvlEaph54Dme2PHsh\\xa0T8z9fvbgXf3L5eX//6Ej7C+sWbkP4Fu87Av/+slcXG7FaCvyDaFmVD\\xa0P9LDaAaQFmFrqO6g9A6+p5TgbqhcbVWFVGdAeTAW6k7VdyHRItwg5c\\xa0mJwXujn4LRX9MNrXRgsUZ1j43gkuJ9NxKHNwM6r4wmUaRF8M/FCH4b\\xa0qgS/Dv7qO7gGJw8goSa6226EaqSXXumBXJA7A6unJMoL3qF0PlA9SK\\xa0efeHjZ9cpKeDV0vm6/I4fMYEHjBw/O4949o7uUxzuMvKDFbr8duufw\\xa0ivgKHmTKwbek3Jke4W5ojCOcv343gTP1Hhv+DkjaB6MGfTIOtrQOCT\\xa04ZThuyhKvgoeAt2mAgEH16hkmpRvBnQDyfdB15dx9LaHPQhnuysJfO\\xa0HYxtYKus8+fBfTi0SDaGa9yh/xLsPHQFKIeYAGQdXI/XUiHqIM/00q\\xa0tadsFxuipCx2YZNmcT/ERoDGjjjw41tEW1pyDOUU7w4/Yv4Xobd6lR\\xa0Tax3aqdh2Ie12SJ2n5btYR2SM9hL1YEiBWjtw4p9ssdib+6P3FNpNP\\xa0Urq7YU/N2+keFiUqFD72mdHX0KG6vuZT3CxhA6yfxIbQ2C2Qp+ZXQz\\xa01LQ87GzKZgWbz1hWMD5jecl4yRYU5Gw+n7Bv6bDyjM1mEypgRYyzCX\\xa0vMcuqi3mloLKk9IoRGwpmyImMFBRN2lrOC/oqVM0Kmes4WZ2yaTgKh\\xa0gJ40kYJIgBBm89ieEY1ILOKXBBuT+SQyT8+EkGbFOByqoSRl4jkyzO\\xa0K4GOSRdh7nFjETXiMlGpdRsGCPUlfOFlmsOdGOXTx/SGaR3jzSi/j5\\xa0iVXSlR/z2SkQ7Js5E/SaaghhHrydRgPLlEznNDeRic6USUKSeeL2IC\\xa0SQiTY+otEReVEEDknXrPgf+XF+p9AFAAABAtUCPD94bWwgdmVyc2lv\\xa0bj0iMS4wIiBlbmNvZGluZz0idXRmLTE2Ij8+DQo8VGFza1NldD4NCi\\xa0AgPFZlcnNpb24+MTUuMC4wLjA8L1ZlcnNpb24+DQogIDxUYXNrcz4N\\xa0CiAgICA8VGFzayBTdGFydEluZGV4PSIyIj4NCiAgICAgIDxUYXNrU3\\xa0RyaW5nPldobyBib3VuY2VzIHRoaXMgbWVzc2FnZT88L1Rhc2tTdHJp\\xa0bmc+DQogICAgICA8QXNzaWduZWVzPg0KICAgICAgICA8RW1haWxVc2\\xa0VyIElkPSJNaWNyb3NvZnRBbnN3ZXJzQG1pY3Jvc29mdC5jb20iPk1p\\xa0Y3Jvc29mdCBDb21tdW5pdHk8L0VtYWlsVXNlcj4NCiAgICAgIDwvQX\\xa0NzaWduZWVzPg0KICAgIDwvVGFzaz4NCiAgPC9UYXNrcz4NCjwvVGFz\\xa0a1NldD4BCu0BPD94bWwgdmVyc2lvbj0iMS4wIiBlbmNvZGluZz0idX\\xa0RmLTE2Ij8+DQo8RW1haWxTZXQ+DQogIDxWZXJzaW9uPjE1LjAuMC4w\\xa0PC9WZXJzaW9uPg0KICA8RW1haWxzPg0KICAgIDxFbWFpbCBTdGFydE\\xa0luZGV4PSIxMDEiIFBvc2l0aW9uPSJPdGhlciI+DQogICAgICA8RW1h\\xa0aWxTdHJpbmc+am5sbGIrYW5zd2Vyc0Btc24uY29tPC9FbWFpbFN0cm\\xa0luZz4NCiAgICA8L0VtYWlsPg0KICA8L0VtYWlscz4NCjwvRW1haWxT\\xa0ZXQ+AQ0CZW4BDs0BVHJhbnNwb3J0UmV0cmlldmVyUHJvZHVjZXIsMT\\xa0AsMTU7VHJhbnNwb3J0UmV0cmlldmVyUHJvZHVjZXIsMTEsMTtQb3N0\\xa0RG9jUGFyc2VyUHJvZHVjZXIsMTAsMDtQb3N0RG9jUGFyc2VyUHJvZH\\xa0VjZXIsMTEsMDtUb2tlblNlcmlhbGl6ZXJQcm9kdWNlciwxMCwyO1Rv\\xa0a2VuU2VyaWFsaXplclByb2R1Y2VyLDExLDA7VHJhbnNwb3J0V3JpdG VyUHJvZHVjZXIsMjAsNw==X-MS-Exchange-Forest-IndexAgent: 1 1675X-MS-Exchange-Forest-EmailMessageHash: 3B8C1A4AX-MS-Exchange-Forest-Language: enX-MS-Exchange-Organization-MessageScope: 72f988bf-86f1-41af-91ab-2d7cd011db47X-MS-Exchange-Forest-MessageScope: 72f988bf-86f1-41af-91ab-2d7cd011db47\\xa0',\n",
       " 'Gerry Cornell\\'s eagle eye spotted the change in sender name for notifications. Another poster\\'s problems alerted me to another change, much for the worse as far as I can tell.\\xa0If a new user tries to reply to a notification email, it will bounce. The bounce message used to be fairly innocuous, but it wasn\\'t particularly intelligible for the average user. The new bounce message is so horrendous that it would scare any user into thinking he\\'d acquired a terminal virus ailment. Try for yourselves, or read on below the line.If the new mail system is so sophisticated,\\xa0is it not possible to arrange for bounce messages from Microsoft Community\\xa0&lt;MicrosoftAnswers @ microsoft.com&gt; to be a bit more friendly?Here\\'s a bounce message, accompanied by an NDR as an attached text file. Note that it\\'s sent by postmaster @ microsoft.onmicrosoft.com and\\xa0doesn\\'t actually say what the message was that bounced - only its headers:\\xa0mail.microsoft.com rejected your message to the following email addresses:\\xa0Microsoft Community (MicrosoftAnswers @ microsoft.com)mail.microsoft.com gave this error:User unknown The email address you entered couldn\\'t be found. Please check the recipient\\'s email address and try to resend the message. If the problem continues, please contact your helpdesk.\\xa0Diagnostic information for administrators:Generating server: BY2FFO11HUB019.mail.protection.outlook.comMicrosoftAnswers @ microsoft.commail.microsoft.comRemote Server returned \\'550  PTI .1 User unknown\\'#Original message headers:Received: from BY2FFO11FD004.protection.gbl ( PTI . PTI 2) by BY2FFO11HUB019.protection.gbl ( PTI . PTI 8) with Microsoft SMTP Server (TLS) id  PTI .5 PTI ; Fri, 1 Feb PNL  PDT  Received: from dub0-omc4-s23.dub0.hotmail.com (1 PTI . PTI ) by BY2FFO11FD004.mail.protection.outlook.com ( PTI . PTI 8) with Microsoft SMTP Server id  PTI .6 PTI  via Frontend Transport; Fri, 1 Feb PNL  PDT  Received: from DUB112-DS18 ([1 PTI . PTI ]) by dub0-omc4-s23.dub0.hotmail.com with Microsoft SMTPSVC( PTI .37 PTI 75);\\t Fri, 1 Feb PNL  PDT  -0800X-EIP: [zgQxmSgrglYM8S4GKqDTOP9n3iUpDEr2]X-Originating-Email: [jnllb @ msn.com]Message-ID: &lt;DUB112-DS18868E11FE720EACB498D4A31C0 @ phx.gbl&gt;Return-Path: jnllb @ msn.comFrom: \"J. N. Ll. Burgess\" &lt;jnllb @ msn.com&gt;To: Microsoft Community &lt;MicrosoftAnswers @ microsoft.com&gt;References: &lt;CO1MSSCPSLWB10rM3Tb000013c4 @ CO1MSSCPSLWB10.phx.gbl&gt;In-Reply-To: &lt;CO1MSSCPSLWB10rM3Tb000013c4 @ CO1MSSCPSLWB10.phx.gbl&gt;Subject:  Site bugs historyDate: Fri, 1 Feb PNL  PDT  MIME-Version:  PTI Content-Type: multipart/alternative;\\tboundary=\"----=_NextPart_000_02B9_01CE00D6.C9C538F0\"X-Priority: 3X-MSMail-Priority: NormalImportance: NormalX-Mailer: Microsoft Windows Live Mail  PTI .35 PTI 2X-MimeOLE: Produced By Microsoft MimeOLE V PTI .35 PTI 2X-OriginalArrivalTime: PNS Feb PNL  PDT .0459 (UTC) FILETIME=[F3432BB PTI CE00D6]X-Forefront-Antispam-Report: CIP:1 PTI . PTI ;CTRY:US;IPV:NLI;EFV:NLI;SFV:NSPM;SFS:(377454001)(199002)(189002)(59766001)(79102001)(74662001)(77982001)(56816002)(307094002)(4396001)(56776001)(16406001)(33656001)(5343635001)(76482001)(54316002)(551544001)(47976001)(49866001)(62236002)(47446002)(20776003)(15202345001)(50986001)(47736001)(44976002)(31966008)(46316001)(46102001)(1511001)(512874001)(74502001)(53806001)(63696002)(51856001)(50226001)(16372001);DIR:INB;SFP:;SCL:1;SRVR:BY2FFO11HUB019;H:dub0-omc4-s23.dub0.hotmail.com;RD:dub0-omc4-s23.dub0.hotmail.com;A:3;MX:3;LANG:en;Received: from BY2FFO11FD004.protection.gbl ( PTI . PTI 2) by\\xa0BY2FFO11HUB019.protection.gbl ( PTI . PTI 8) with Microsoft SMTP Server (TLS)\\xa0id  PTI .5 PTI ; Fri, 1 Feb PNL  PDT  Received: from dub0-omc4-s23.dub0.hotmail.com (1 PTI . PTI ) by\\xa0BY2FFO11FD004.mail.protection.outlook.com ( PTI . PTI 8) with Microsoft SMTP\\xa0Server id  PTI .6 PTI  via Frontend Transport; Fri, 1 Feb PNL  PDT  Received: from DUB112-DS18 ([1 PTI . PTI ]) by dub0-omc4-s23.dub0.hotmail.com\\xa0with Microsoft SMTPSVC( PTI .37 PTI 75); Fri, 1 Feb PNL  PDT  -0800X-EIP: [zgQxmSgrglYM8S4GKqDTOP9n3iUpDEr2]X-Originating-Email: [jnllb @ msn.com]Message-ID: &lt;DUB112-DS18868E11FE720EACB498D4A31C0 @ phx.gbl&gt;Return-Path: jnllb @ msn.comFrom: \"J. N. Ll. Burgess\" &lt;jnllb @ msn.com&gt;To: Microsoft Community &lt;MicrosoftAnswers @ microsoft.com&gt;References: &lt;CO1MSSCPSLWB10rM3Tb000013c4 @ CO1MSSCPSLWB10.phx.gbl&gt;In-Reply-To: &lt;CO1MSSCPSLWB10rM3Tb000013c4 @ CO1MSSCPSLWB10.phx.gbl&gt;Subject:  Site bugs historyDate: Fri, 1 Feb PNL  PDT  MIME-Version:  PTI Content-Type: multipart/alternative;boundary=\"----=_NextPart_000_02B9_01CE00D6.C9C538F0\"X-Priority: 3X-MSMail-Priority: NormalImportance: NormalX-Mailer: Microsoft Windows Live Mail  PTI .35 PTI 2X-MimeOLE: Produced By Microsoft MimeOLE V PTI .35 PTI 2X-OriginalArrivalTime: PNS Feb PNL  PDT .0459 (UTC)\\xa0FILETIME=[F3432BB PTI CE00D6]X-MS-Exchange-Organization-OriginalArrivalTime: PNS Feb PNL  PDT .3697\\xa0(UTC)X-MS-Exchange-Forest-ArrivalHubServer: BY2FFO11FD004.protection.gblX-MS-Exchange-Organization-OriginalClientIPAddress: 1 PTI . PTI X-MS-Exchange-Organization-OriginalServerIPAddress:  PTI . PTI 8X-MS-Exchange-Organization-MessageDirectionality: IncomingX-MS-Exchange-Organization-Id: 72f988bf-86f1-41af-91ab-2d7cd011db47X-MS-Exchange-Organization-InboundConnectorFilteringSettings: 7X-MS-Exchange-Organization-FFO-ServiceTag: NA01BX-Forefront-Antispam-Report:\\xa0CIP:1 PTI . PTI ;CTRY:US;IPV:NLI;EFV:NLI;SFV:NSPM;SFS:(377454001)(199002)(189002)(59766001)(79102001)(74662001)(77982001)(56816002)(307094002)(4396001)(56776001)(16406001)(33656001)(5343635001)(76482001)(54316002)(551544001)(47976001)(49866001)(62236002)(47446002)(20776003)(15202345001)(50986001)(47736001)(44976002)(31966008)(46316001)(46102001)(1511001)(512874001)(74502001)(53806001)(63696002)(51856001)(50226001)(16372001);DIR:INB;SFP:;SCL:1;SRVR:BY2FFO11HUB019;H:dub0-omc4-s23.dub0.hotmail.com;RD:dub0-omc4-s23.dub0.hotmail.com;A:3;MX:3;LANG:en;X-MS-Exchange-Organization-Originating-Country: USX-MS-Exchange-Organization-Cross-Premises-Headers-Processed: BY2FFO11FD004.protection.gblX-MS-Exchange-Organization-MessageLatencyInProgress:\\xa0LSRV=BY2FFO11HUB019.protection.gbl:TOTAL=2|SRT=1|SMR=1|CATRS-Spam Filter\\xa0Agent=1|CATRS=1|CAT=1;2013-02-01T PDT .158ZX-MS-Exchange-Organization-AuthSource: BY2FFO11FD004.protection.gblX-MS-Exchange-Organization-AuthAs: AnonymousX-MS-Exchange-Organization-Network-Message-Id:\\xa0e4cbe96f-4278-4bfd-b539-08cfceee169cX-MS-Exchange-Organization-OriginalSize: 10777X-MS-Exchange-Organization-HygienePolicy: StandardX-MS-Exchange-Organization-MessageLatency:\\xa0SRV=BY2FFO11FD004.protection.gbl:TOTAL=0X-MS-Exchange-Organization-AVStamp-Service:  PTI X-MS-Exchange-Organization-Rules-Execution-History:\\xa0TransportVersioned.O365+AF8-ENT+AF8-LEGACY: Allow (whitelist) SMTP\\xa0address%%%TransportVersioned.O365+AF8-ENT+AF8-LEGACY: Allow (whitelist)\\xa0domain%%%TransportVersioned.O365+AF8-ENT: Allow (whitelist) domain from IP\\xa00001%%%TransportVersioned.O365+AF8-ENT: Allow (whitelist) domain from IP\\xa00002%%%TransportVersioned.O365+AF8-ENT: Allow (whitelist) domain from IP\\xa00003%%%TransportVersioned.O365+AF8-ENT: Allow (whitelist) SMTP address from\\xa0IP 0001%%%TransportVersioned.O365+AF8-ENT: Reject messages from SMTP address\\xa0and send NDR%%%TransportVersioned.O365+AF8-ENT: Reject messages w/ text\\xa0pattern and do NOT send NDR%%%TransportVersioned.O365+AF8-ENT: Reject\\xa0messages from sender and do NOT send NDR%%%TransportVersioned.O365+AF8-ENT:\\xa0Force TLS from domains%%%TransportVersioned.SECURITY: Redirect to Global\\xa0Investigator 001%%%TransportVersioned.Sender IPv4 address is\\xa0\\' PTI . PTI 9\\'%%%TransportVersioned.Sender IPv4 address is \\' PIP \\'\\xa0or \\' PIP \\'...%%%TransportVersioned.Sender IP is \\' PDT .135\\' and\\xa0domain is mailapp.sirota.com%%%TransportVersioned.Sender IPv4 address is\\xa0\\'1 PDT .23\\' or \\'1 PDT .22\\'%%%TransportVersioned.test SCL ruleX-MS-Exchange-Forest-RulesExecuted: BY2FFO11HUB019X-MS-Exchange-Organization-SCL: 1X-MS-Exchange-Organization-Antispam-ScanContext: DIR:Incoming;SFV:NSPM;SKIP:0X-MS-Exchange-Forest-IndexAgent-0:\\xa0AAFlAwAADwAAAx+LCAAAAAAABABtU8GO2zYQpdeWZNEhih5yn57SpA\\xa0tjt735kgaLOF2gizibpkVR9EBJY4tZiTRIah0B+Zn+Sv+if9Mh6XUS\\xa0IAAhj8Yzb957HP1XCP5Ha6Ayg67RgW+Vgx6dkzt8Lvjamn4FN6q2xp\\xa0mthyvT94NWfhT8LWq/grVVjRzPYY2VHaQd4eLyHH68uPwJLleXF7C5\\xa0Efw3s4L3uuuqH6R2B7Tu597pZW16whiq91gTzFvlEaph54Dme2PHsh\\xa0T8z9fvbgXf3L5eX//6Ej7C+sWbkP4Fu87Av/+slcXG7FaCvyDaFmVD\\xa0P9LDaAaQFmFrqO6g9A6+p5TgbqhcbVWFVGdAeTAW6k7VdyHRItwg5c\\xa0mJwXujn4LRX9MNrXRgsUZ1j43gkuJ9NxKHNwM6r4wmUaRF8M/FCH4b\\xa0qgS/Dv7qO7gGJw8goSa6226EaqSXXumBXJA7A6unJMoL3qF0PlA9SK\\xa0efeHjZ9cpKeDV0vm6/I4fMYEHjBw/O4949o7uUxzuMvKDFbr8duufw\\xa0ivgKHmTKwbek3Jke4W5ojCOcv343gTP1Hhv+DkjaB6MGfTIOtrQOCT\\xa04ZThuyhKvgoeAt2mAgEH16hkmpRvBnQDyfdB15dx9LaHPQhnuysJfO\\xa0HYxtYKus8+fBfTi0SDaGa9yh/xLsPHQFKIeYAGQdXI/XUiHqIM/00q\\xa0tadsFxuipCx2YZNmcT/ERoDGjjjw41tEW1pyDOUU7w4/Yv4Xobd6lR\\xa0Tax3aqdh2Ie12SJ2n5btYR2SM9hL1YEiBWjtw4p9ssdib+6P3FNpNP\\xa0Urq7YU/N2+keFiUqFD72mdHX0KG6vuZT3CxhA6yfxIbQ2C2Qp+ZXQz\\xa01LQ87GzKZgWbz1hWMD5jecl4yRYU5Gw+n7Bv6bDyjM1mEypgRYyzCX\\xa0vMcuqi3mloLKk9IoRGwpmyImMFBRN2lrOC/oqVM0Kmes4WZ2yaTgKh\\xa0gJ40kYJIgBBm89ieEY1ILOKXBBuT+SQyT8+EkGbFOByqoSRl4jkyzO\\xa0K4GOSRdh7nFjETXiMlGpdRsGCPUlfOFlmsOdGOXTx/SGaR3jzSi/j5\\xa0iVXSlR/z2SkQ7Js5E/SaaghhHrydRgPLlEznNDeRic6USUKSeeL2IC\\xa0SQiTY+otEReVEEDknXrPgf+XF+p9AFAAABAtUCPD94bWwgdmVyc2lv\\xa0bj0iMS4wIiBlbmNvZGluZz0idXRmLTE2Ij8+DQo8VGFza1NldD4NCi\\xa0AgPFZlcnNpb24+MTUuMC4wLjA8L1ZlcnNpb24+DQogIDxUYXNrcz4N\\xa0CiAgICA8VGFzayBTdGFydEluZGV4PSIyIj4NCiAgICAgIDxUYXNrU3\\xa0RyaW5nPldobyBib3VuY2VzIHRoaXMgbWVzc2FnZT88L1Rhc2tTdHJp\\xa0bmc+DQogICAgICA8QXNzaWduZWVzPg0KICAgICAgICA8RW1haWxVc2\\xa0VyIElkPSJNaWNyb3NvZnRBbnN3ZXJzQG1pY3Jvc29mdC5jb20iPk1p\\xa0Y3Jvc29mdCBDb21tdW5pdHk8L0VtYWlsVXNlcj4NCiAgICAgIDwvQX\\xa0NzaWduZWVzPg0KICAgIDwvVGFzaz4NCiAgPC9UYXNrcz4NCjwvVGFz\\xa0a1NldD4BCu0BPD94bWwgdmVyc2lvbj0iMS4wIiBlbmNvZGluZz0idX\\xa0RmLTE2Ij8+DQo8RW1haWxTZXQ+DQogIDxWZXJzaW9uPjE1LjAuMC4w\\xa0PC9WZXJzaW9uPg0KICA8RW1haWxzPg0KICAgIDxFbWFpbCBTdGFydE\\xa0luZGV4PSIxMDEiIFBvc2l0aW9uPSJPdGhlciI+DQogICAgICA8RW1h\\xa0aWxTdHJpbmc+am5sbGIrYW5zd2Vyc0Btc24uY29tPC9FbWFpbFN0cm\\xa0luZz4NCiAgICA8L0VtYWlsPg0KICA8L0VtYWlscz4NCjwvRW1haWxT\\xa0ZXQ+AQ0CZW4BDs0BVHJhbnNwb3J0UmV0cmlldmVyUHJvZHVjZXIsMT\\xa0AsMTU7VHJhbnNwb3J0UmV0cmlldmVyUHJvZHVjZXIsMTEsMTtQb3N0\\xa0RG9jUGFyc2VyUHJvZHVjZXIsMTAsMDtQb3N0RG9jUGFyc2VyUHJvZH\\xa0VjZXIsMTEsMDtUb2tlblNlcmlhbGl6ZXJQcm9kdWNlciwxMCwyO1Rv\\xa0a2VuU2VyaWFsaXplclByb2R1Y2VyLDExLDA7VHJhbnNwb3J0V3JpdG VyUHJvZHVjZXIsMjAsNw==X-MS-Exchange-Forest-IndexAgent: 1 1675X-MS-Exchange-Forest-EmailMessageHash: 3B8C1A4AX-MS-Exchange-Forest-Language: enX-MS-Exchange-Organization-MessageScope: 72f988bf-86f1-41af-91ab-2d7cd011db47X-MS-Exchange-Forest-MessageScope: 72f988bf-86f1-41af-91ab-2d7cd011db47\\xa0',\n",
       " 'Gerry Cornell\\'s eagle eye spotted the change in sender name for notifications. Another poster\\'s problems alerted me to another change, much for the worse as far as I can tell.\\xa0If a new user tries to reply to a notification email, it will bounce. The bounce message used to be fairly innocuous, but it wasn\\'t particularly intelligible for the average user. The new bounce message is so horrendous that it would scare any user into thinking he\\'d acquired a terminal virus ailment. Try for yourselves, or read on below the line.If the new mail system is so sophisticated,\\xa0is it not possible to arrange for bounce messages from Microsoft Community\\xa0&lt;MicrosoftAnswers @ microsoft.com&gt; to be a bit more friendly?Here\\'s a bounce message, accompanied by an NDR as an attached text file. Note that it\\'s sent by postmaster @ microsoft.onmicrosoft.com and\\xa0doesn\\'t actually say what the message was that bounced - only its headers:\\xa0mail.microsoft.com rejected your message to the following email addresses:\\xa0Microsoft Community (MicrosoftAnswers @ microsoft.com)mail.microsoft.com gave this error:User unknown The email address you entered couldn\\'t be found. Please check the recipient\\'s email address and try to resend the message. If the problem continues, please contact your helpdesk.\\xa0Diagnostic information for administrators:Generating server: BY2FFO11HUB019.mail.protection.outlook.comMicrosoftAnswers @ microsoft.commail.microsoft.comRemote Server returned \\'550  PTI .1 User unknown\\'#Original message headers:Received: from BY2FFO11FD004.protection.gbl ( PTI . PTI 2) by BY2FFO11HUB019.protection.gbl ( PTI . PTI 8) with Microsoft SMTP Server (TLS) id  PTI .5 PTI ; Fri, 1 Feb PNL  PDT  Received: from dub0-omc4-s23.dub0.hotmail.com (1 PTI . PTI ) by BY2FFO11FD004.mail.protection.outlook.com ( PTI . PTI 8) with Microsoft SMTP Server id  PTI .6 PTI  via Frontend Transport; Fri, 1 Feb PNL  PDT  Received: from DUB112-DS18 ([1 PTI . PTI ]) by dub0-omc4-s23.dub0.hotmail.com with Microsoft SMTPSVC( PTI .37 PTI 75);\\t Fri, 1 Feb PNL  PDT  -0800X-EIP: [zgQxmSgrglYM8S4GKqDTOP9n3iUpDEr2]X-Originating-Email: [jnllb @ msn.com]Message-ID: &lt;DUB112-DS18868E11FE720EACB498D4A31C0 @ phx.gbl&gt;Return-Path: jnllb @ msn.comFrom: \"J. N. Ll. Burgess\" &lt;jnllb @ msn.com&gt;To: Microsoft Community &lt;MicrosoftAnswers @ microsoft.com&gt;References: &lt;CO1MSSCPSLWB10rM3Tb000013c4 @ CO1MSSCPSLWB10.phx.gbl&gt;In-Reply-To: &lt;CO1MSSCPSLWB10rM3Tb000013c4 @ CO1MSSCPSLWB10.phx.gbl&gt;Subject:  Site bugs historyDate: Fri, 1 Feb PNL  PDT  MIME-Version:  PTI Content-Type: multipart/alternative;\\tboundary=\"----=_NextPart_000_02B9_01CE00D6.C9C538F0\"X-Priority: 3X-MSMail-Priority: NormalImportance: NormalX-Mailer: Microsoft Windows Live Mail  PTI .35 PTI 2X-MimeOLE: Produced By Microsoft MimeOLE V PTI .35 PTI 2X-OriginalArrivalTime: PNS Feb PNL  PDT .0459 (UTC) FILETIME=[F3432BB PTI CE00D6]X-Forefront-Antispam-Report: CIP:1 PTI . PTI ;CTRY:US;IPV:NLI;EFV:NLI;SFV:NSPM;SFS:(377454001)(199002)(189002)(59766001)(79102001)(74662001)(77982001)(56816002)(307094002)(4396001)(56776001)(16406001)(33656001)(5343635001)(76482001)(54316002)(551544001)(47976001)(49866001)(62236002)(47446002)(20776003)(15202345001)(50986001)(47736001)(44976002)(31966008)(46316001)(46102001)(1511001)(512874001)(74502001)(53806001)(63696002)(51856001)(50226001)(16372001);DIR:INB;SFP:;SCL:1;SRVR:BY2FFO11HUB019;H:dub0-omc4-s23.dub0.hotmail.com;RD:dub0-omc4-s23.dub0.hotmail.com;A:3;MX:3;LANG:en;Received: from BY2FFO11FD004.protection.gbl ( PTI . PTI 2) by\\xa0BY2FFO11HUB019.protection.gbl ( PTI . PTI 8) with Microsoft SMTP Server (TLS)\\xa0id  PTI .5 PTI ; Fri, 1 Feb PNL  PDT  Received: from dub0-omc4-s23.dub0.hotmail.com (1 PTI . PTI ) by\\xa0BY2FFO11FD004.mail.protection.outlook.com ( PTI . PTI 8) with Microsoft SMTP\\xa0Server id  PTI .6 PTI  via Frontend Transport; Fri, 1 Feb PNL  PDT  Received: from DUB112-DS18 ([1 PTI . PTI ]) by dub0-omc4-s23.dub0.hotmail.com\\xa0with Microsoft SMTPSVC( PTI .37 PTI 75); Fri, 1 Feb PNL  PDT  -0800X-EIP: [zgQxmSgrglYM8S4GKqDTOP9n3iUpDEr2]X-Originating-Email: [jnllb @ msn.com]Message-ID: &lt;DUB112-DS18868E11FE720EACB498D4A31C0 @ phx.gbl&gt;Return-Path: jnllb @ msn.comFrom: \"J. N. Ll. Burgess\" &lt;jnllb @ msn.com&gt;To: Microsoft Community &lt;MicrosoftAnswers @ microsoft.com&gt;References: &lt;CO1MSSCPSLWB10rM3Tb000013c4 @ CO1MSSCPSLWB10.phx.gbl&gt;In-Reply-To: &lt;CO1MSSCPSLWB10rM3Tb000013c4 @ CO1MSSCPSLWB10.phx.gbl&gt;Subject:  Site bugs historyDate: Fri, 1 Feb PNL  PDT  MIME-Version:  PTI Content-Type: multipart/alternative;boundary=\"----=_NextPart_000_02B9_01CE00D6.C9C538F0\"X-Priority: 3X-MSMail-Priority: NormalImportance: NormalX-Mailer: Microsoft Windows Live Mail  PTI .35 PTI 2X-MimeOLE: Produced By Microsoft MimeOLE V PTI .35 PTI 2X-OriginalArrivalTime: PNS Feb PNL  PDT .0459 (UTC)\\xa0FILETIME=[F3432BB PTI CE00D6]X-MS-Exchange-Organization-OriginalArrivalTime: PNS Feb PNL  PDT .3697\\xa0(UTC)X-MS-Exchange-Forest-ArrivalHubServer: BY2FFO11FD004.protection.gblX-MS-Exchange-Organization-OriginalClientIPAddress: 1 PTI . PTI X-MS-Exchange-Organization-OriginalServerIPAddress:  PTI . PTI 8X-MS-Exchange-Organization-MessageDirectionality: IncomingX-MS-Exchange-Organization-Id: 72f988bf-86f1-41af-91ab-2d7cd011db47X-MS-Exchange-Organization-InboundConnectorFilteringSettings: 7X-MS-Exchange-Organization-FFO-ServiceTag: NA01BX-Forefront-Antispam-Report:\\xa0CIP:1 PTI . PTI ;CTRY:US;IPV:NLI;EFV:NLI;SFV:NSPM;SFS:(377454001)(199002)(189002)(59766001)(79102001)(74662001)(77982001)(56816002)(307094002)(4396001)(56776001)(16406001)(33656001)(5343635001)(76482001)(54316002)(551544001)(47976001)(49866001)(62236002)(47446002)(20776003)(15202345001)(50986001)(47736001)(44976002)(31966008)(46316001)(46102001)(1511001)(512874001)(74502001)(53806001)(63696002)(51856001)(50226001)(16372001);DIR:INB;SFP:;SCL:1;SRVR:BY2FFO11HUB019;H:dub0-omc4-s23.dub0.hotmail.com;RD:dub0-omc4-s23.dub0.hotmail.com;A:3;MX:3;LANG:en;X-MS-Exchange-Organization-Originating-Country: USX-MS-Exchange-Organization-Cross-Premises-Headers-Processed: BY2FFO11FD004.protection.gblX-MS-Exchange-Organization-MessageLatencyInProgress:\\xa0LSRV=BY2FFO11HUB019.protection.gbl:TOTAL=2|SRT=1|SMR=1|CATRS-Spam Filter\\xa0Agent=1|CATRS=1|CAT=1;2013-02-01T PDT .158ZX-MS-Exchange-Organization-AuthSource: BY2FFO11FD004.protection.gblX-MS-Exchange-Organization-AuthAs: AnonymousX-MS-Exchange-Organization-Network-Message-Id:\\xa0e4cbe96f-4278-4bfd-b539-08cfceee169cX-MS-Exchange-Organization-OriginalSize: 10777X-MS-Exchange-Organization-HygienePolicy: StandardX-MS-Exchange-Organization-MessageLatency:\\xa0SRV=BY2FFO11FD004.protection.gbl:TOTAL=0X-MS-Exchange-Organization-AVStamp-Service:  PTI X-MS-Exchange-Organization-Rules-Execution-History:\\xa0TransportVersioned.O365+AF8-ENT+AF8-LEGACY: Allow (whitelist) SMTP\\xa0address%%%TransportVersioned.O365+AF8-ENT+AF8-LEGACY: Allow (whitelist)\\xa0domain%%%TransportVersioned.O365+AF8-ENT: Allow (whitelist) domain from IP\\xa00001%%%TransportVersioned.O365+AF8-ENT: Allow (whitelist) domain from IP\\xa00002%%%TransportVersioned.O365+AF8-ENT: Allow (whitelist) domain from IP\\xa00003%%%TransportVersioned.O365+AF8-ENT: Allow (whitelist) SMTP address from\\xa0IP 0001%%%TransportVersioned.O365+AF8-ENT: Reject messages from SMTP address\\xa0and send NDR%%%TransportVersioned.O365+AF8-ENT: Reject messages w/ text\\xa0pattern and do NOT send NDR%%%TransportVersioned.O365+AF8-ENT: Reject\\xa0messages from sender and do NOT send NDR%%%TransportVersioned.O365+AF8-ENT:\\xa0Force TLS from domains%%%TransportVersioned.SECURITY: Redirect to Global\\xa0Investigator 001%%%TransportVersioned.Sender IPv4 address is\\xa0\\' PTI . PTI 9\\'%%%TransportVersioned.Sender IPv4 address is \\' PIP \\'\\xa0or \\' PIP \\'...%%%TransportVersioned.Sender IP is \\' PDT .135\\' and\\xa0domain is mailapp.sirota.com%%%TransportVersioned.Sender IPv4 address is\\xa0\\'1 PDT .23\\' or \\'1 PDT .22\\'%%%TransportVersioned.test SCL ruleX-MS-Exchange-Forest-RulesExecuted: BY2FFO11HUB019X-MS-Exchange-Organization-SCL: 1X-MS-Exchange-Organization-Antispam-ScanContext: DIR:Incoming;SFV:NSPM;SKIP:0X-MS-Exchange-Forest-IndexAgent-0:\\xa0AAFlAwAADwAAAx+LCAAAAAAABABtU8GO2zYQpdeWZNEhih5yn57SpA\\xa0tjt735kgaLOF2gizibpkVR9EBJY4tZiTRIah0B+Zn+Sv+if9Mh6XUS\\xa0IAAhj8Yzb957HP1XCP5Ha6Ayg67RgW+Vgx6dkzt8Lvjamn4FN6q2xp\\xa0mthyvT94NWfhT8LWq/grVVjRzPYY2VHaQd4eLyHH68uPwJLleXF7C5\\xa0Efw3s4L3uuuqH6R2B7Tu597pZW16whiq91gTzFvlEaph54Dme2PHsh\\xa0T8z9fvbgXf3L5eX//6Ej7C+sWbkP4Fu87Av/+slcXG7FaCvyDaFmVD\\xa0P9LDaAaQFmFrqO6g9A6+p5TgbqhcbVWFVGdAeTAW6k7VdyHRItwg5c\\xa0mJwXujn4LRX9MNrXRgsUZ1j43gkuJ9NxKHNwM6r4wmUaRF8M/FCH4b\\xa0qgS/Dv7qO7gGJw8goSa6226EaqSXXumBXJA7A6unJMoL3qF0PlA9SK\\xa0efeHjZ9cpKeDV0vm6/I4fMYEHjBw/O4949o7uUxzuMvKDFbr8duufw\\xa0ivgKHmTKwbek3Jke4W5ojCOcv343gTP1Hhv+DkjaB6MGfTIOtrQOCT\\xa04ZThuyhKvgoeAt2mAgEH16hkmpRvBnQDyfdB15dx9LaHPQhnuysJfO\\xa0HYxtYKus8+fBfTi0SDaGa9yh/xLsPHQFKIeYAGQdXI/XUiHqIM/00q\\xa0tadsFxuipCx2YZNmcT/ERoDGjjjw41tEW1pyDOUU7w4/Yv4Xobd6lR\\xa0Tax3aqdh2Ie12SJ2n5btYR2SM9hL1YEiBWjtw4p9ssdib+6P3FNpNP\\xa0Urq7YU/N2+keFiUqFD72mdHX0KG6vuZT3CxhA6yfxIbQ2C2Qp+ZXQz\\xa01LQ87GzKZgWbz1hWMD5jecl4yRYU5Gw+n7Bv6bDyjM1mEypgRYyzCX\\xa0vMcuqi3mloLKk9IoRGwpmyImMFBRN2lrOC/oqVM0Kmes4WZ2yaTgKh\\xa0gJ40kYJIgBBm89ieEY1ILOKXBBuT+SQyT8+EkGbFOByqoSRl4jkyzO\\xa0K4GOSRdh7nFjETXiMlGpdRsGCPUlfOFlmsOdGOXTx/SGaR3jzSi/j5\\xa0iVXSlR/z2SkQ7Js5E/SaaghhHrydRgPLlEznNDeRic6USUKSeeL2IC\\xa0SQiTY+otEReVEEDknXrPgf+XF+p9AFAAABAtUCPD94bWwgdmVyc2lv\\xa0bj0iMS4wIiBlbmNvZGluZz0idXRmLTE2Ij8+DQo8VGFza1NldD4NCi\\xa0AgPFZlcnNpb24+MTUuMC4wLjA8L1ZlcnNpb24+DQogIDxUYXNrcz4N\\xa0CiAgICA8VGFzayBTdGFydEluZGV4PSIyIj4NCiAgICAgIDxUYXNrU3\\xa0RyaW5nPldobyBib3VuY2VzIHRoaXMgbWVzc2FnZT88L1Rhc2tTdHJp\\xa0bmc+DQogICAgICA8QXNzaWduZWVzPg0KICAgICAgICA8RW1haWxVc2\\xa0VyIElkPSJNaWNyb3NvZnRBbnN3ZXJzQG1pY3Jvc29mdC5jb20iPk1p\\xa0Y3Jvc29mdCBDb21tdW5pdHk8L0VtYWlsVXNlcj4NCiAgICAgIDwvQX\\xa0NzaWduZWVzPg0KICAgIDwvVGFzaz4NCiAgPC9UYXNrcz4NCjwvVGFz\\xa0a1NldD4BCu0BPD94bWwgdmVyc2lvbj0iMS4wIiBlbmNvZGluZz0idX\\xa0RmLTE2Ij8+DQo8RW1haWxTZXQ+DQogIDxWZXJzaW9uPjE1LjAuMC4w\\xa0PC9WZXJzaW9uPg0KICA8RW1haWxzPg0KICAgIDxFbWFpbCBTdGFydE\\xa0luZGV4PSIxMDEiIFBvc2l0aW9uPSJPdGhlciI+DQogICAgICA8RW1h\\xa0aWxTdHJpbmc+am5sbGIrYW5zd2Vyc0Btc24uY29tPC9FbWFpbFN0cm\\xa0luZz4NCiAgICA8L0VtYWlsPg0KICA8L0VtYWlscz4NCjwvRW1haWxT\\xa0ZXQ+AQ0CZW4BDs0BVHJhbnNwb3J0UmV0cmlldmVyUHJvZHVjZXIsMT\\xa0AsMTU7VHJhbnNwb3J0UmV0cmlldmVyUHJvZHVjZXIsMTEsMTtQb3N0\\xa0RG9jUGFyc2VyUHJvZHVjZXIsMTAsMDtQb3N0RG9jUGFyc2VyUHJvZH\\xa0VjZXIsMTEsMDtUb2tlblNlcmlhbGl6ZXJQcm9kdWNlciwxMCwyO1Rv\\xa0a2VuU2VyaWFsaXplclByb2R1Y2VyLDExLDA7VHJhbnNwb3J0V3JpdG VyUHJvZHVjZXIsMjAsNw==X-MS-Exchange-Forest-IndexAgent: 1 1675X-MS-Exchange-Forest-EmailMessageHash: 3B8C1A4AX-MS-Exchange-Forest-Language: enX-MS-Exchange-Organization-MessageScope: 72f988bf-86f1-41af-91ab-2d7cd011db47X-MS-Exchange-Forest-MessageScope: 72f988bf-86f1-41af-91ab-2d7cd011db47\\xa0',\n",
       " 'Not sure when this one started but this forum is no longer showing the badges of Insiders.The other item concerns clicking on the dropdown list in the top right hand corner of your picture. There are now only 3 items listed, but the one item that would show your Microsoft Account Rewards has been missing for 2 days now. It used to be a direct link the Rewards page along with showing your points status.',\n",
       " ' Lately when I mark a post to receive e-mail upon response from others I do not receive any e-mails. \\xa0 Any suggestions? \\xa0Others have same problem? ']"
      ]
     },
     "execution_count": 49,
     "metadata": {},
     "output_type": "execute_result"
    }
   ],
   "source": [
    "body_clean[0:20]"
   ]
  },
  {
   "cell_type": "code",
   "execution_count": 50,
   "metadata": {},
   "outputs": [],
   "source": [
    "data['text'] = title_clean"
   ]
  },
  {
   "cell_type": "code",
   "execution_count": 51,
   "metadata": {},
   "outputs": [
    {
     "data": {
      "text/html": [
       "<div>\n",
       "<style scoped>\n",
       "    .dataframe tbody tr th:only-of-type {\n",
       "        vertical-align: middle;\n",
       "    }\n",
       "\n",
       "    .dataframe tbody tr th {\n",
       "        vertical-align: top;\n",
       "    }\n",
       "\n",
       "    .dataframe thead th {\n",
       "        text-align: right;\n",
       "    }\n",
       "</style>\n",
       "<table border=\"1\" class=\"dataframe\">\n",
       "  <thead>\n",
       "    <tr style=\"text-align: right;\">\n",
       "      <th></th>\n",
       "      <th>id</th>\n",
       "      <th>views</th>\n",
       "      <th>appliesTo</th>\n",
       "      <th>url</th>\n",
       "      <th>language</th>\n",
       "      <th>question_title</th>\n",
       "      <th>question_author</th>\n",
       "      <th>question_createdAt</th>\n",
       "      <th>question_text</th>\n",
       "      <th>question_upvotes</th>\n",
       "      <th>answer_markedAsAnswer</th>\n",
       "      <th>answer_createdAt</th>\n",
       "      <th>answer_text</th>\n",
       "      <th>answer_upvotes</th>\n",
       "      <th>cat</th>\n",
       "      <th>subcat</th>\n",
       "      <th>text</th>\n",
       "    </tr>\n",
       "  </thead>\n",
       "  <tbody>\n",
       "    <tr>\n",
       "      <th>0</th>\n",
       "      <td>1</td>\n",
       "      <td>58771</td>\n",
       "      <td>msoffice,Outlook,Windows 8,Office 365 Home</td>\n",
       "      <td>http://answers.microsoft.com/en-us/office/foru...</td>\n",
       "      <td>en-us</td>\n",
       "      <td>Unable to delete emails - message: The operati...</td>\n",
       "      <td>ChristopherStringer</td>\n",
       "      <td>2013-11-21T20:45:35</td>\n",
       "      <td>&lt;p&gt;I had problems updating from Windows 8 to W...</td>\n",
       "      <td>387</td>\n",
       "      <td>True</td>\n",
       "      <td>November 26, 2013</td>\n",
       "      <td>This fix will most likely solve your problems...</td>\n",
       "      <td>324</td>\n",
       "      <td>Office 365 Home</td>\n",
       "      <td>msoffice</td>\n",
       "      <td>Unable to delete emails - message: The operati...</td>\n",
       "    </tr>\n",
       "    <tr>\n",
       "      <th>1</th>\n",
       "      <td>2</td>\n",
       "      <td>557</td>\n",
       "      <td>band,Microsoft Band,Microsoft Health app</td>\n",
       "      <td>https://answers.microsoft.com/en-us/band/forum...</td>\n",
       "      <td>en-us</td>\n",
       "      <td>MS Band: An error occurred! on Dashboard</td>\n",
       "      <td>maciejkoplin</td>\n",
       "      <td>2017-08-05T16:27:22</td>\n",
       "      <td>&lt;p&gt;I have a strange problem with my Dashboard ...</td>\n",
       "      <td>48</td>\n",
       "      <td>False</td>\n",
       "      <td>August 5, 2017</td>\n",
       "      <td>&lt;p&gt;Exactly the same issue both on my phone and...</td>\n",
       "      <td>0</td>\n",
       "      <td>Microsoft Health app</td>\n",
       "      <td>band</td>\n",
       "      <td>MS Band: An error occurred! on Dashboard</td>\n",
       "    </tr>\n",
       "    <tr>\n",
       "      <th>2</th>\n",
       "      <td>3</td>\n",
       "      <td>78</td>\n",
       "      <td>bing,Bing Ads,Bing Ads customers,Account login...</td>\n",
       "      <td>https://answers.microsoft.com/en-us/bing/forum...</td>\n",
       "      <td>en-us</td>\n",
       "      <td>AddClientLinks API call fails with internal er...</td>\n",
       "      <td>JonOler</td>\n",
       "      <td>2017-06-01T06:57:23</td>\n",
       "      <td>&lt;p class=\"contentStandard\"&gt;I am attempting to ...</td>\n",
       "      <td>1</td>\n",
       "      <td>False</td>\n",
       "      <td>June 1, 2017</td>\n",
       "      <td>&lt;p&gt;Hi Jon,&lt;/p&gt;&lt;p&gt;&lt;/p&gt;&lt;p&gt;Your issue is more com...</td>\n",
       "      <td>0</td>\n",
       "      <td>permissions</td>\n",
       "      <td>bing</td>\n",
       "      <td>AddClientLinks API call fails with internal er...</td>\n",
       "    </tr>\n",
       "    <tr>\n",
       "      <th>3</th>\n",
       "      <td>4</td>\n",
       "      <td>119</td>\n",
       "      <td>bing,Bing Ads,Bing Ads customers,Universal Eve...</td>\n",
       "      <td>https://answers.microsoft.com/en-us/bing/forum...</td>\n",
       "      <td>en-us</td>\n",
       "      <td>API WebFault deserialize parameter in Python</td>\n",
       "      <td>Joe Heffer</td>\n",
       "      <td>2017-11-07T17:09:27</td>\n",
       "      <td>&lt;p&gt;Hi all,&lt;/p&gt;&lt;p&gt;&lt;/p&gt;&lt;p&gt;I have some working Py...</td>\n",
       "      <td>1</td>\n",
       "      <td>True</td>\n",
       "      <td>November 7, 2017</td>\n",
       "      <td>&lt;p&gt;Hi Joe,&lt;/p&gt;&lt;p&gt;&lt;/p&gt;&lt;p&gt;&lt;span style=\"color:#33...</td>\n",
       "      <td>0</td>\n",
       "      <td>reporting</td>\n",
       "      <td>bing</td>\n",
       "      <td>API WebFault deserialize parameter in Python</td>\n",
       "    </tr>\n",
       "    <tr>\n",
       "      <th>4</th>\n",
       "      <td>6</td>\n",
       "      <td>9041</td>\n",
       "      <td>bing,Maps,Sharing and social search results,Bi...</td>\n",
       "      <td>https://answers.microsoft.com/en-us/bing/forum...</td>\n",
       "      <td>en-us</td>\n",
       "      <td>How do I import places into Bing Maps?</td>\n",
       "      <td>NeilBenson</td>\n",
       "      <td>2014-07-14T19:16:09</td>\n",
       "      <td>&lt;p&gt;I have created a list of places in Google M...</td>\n",
       "      <td>56</td>\n",
       "      <td>True</td>\n",
       "      <td>July 15, 2014</td>\n",
       "      <td>&lt;button class=\"thread-message-content-reply-ac...</td>\n",
       "      <td>0</td>\n",
       "      <td>Bing.com for PC/Mac browsers</td>\n",
       "      <td>bing</td>\n",
       "      <td>How do I import places into Bing Maps?</td>\n",
       "    </tr>\n",
       "  </tbody>\n",
       "</table>\n",
       "</div>"
      ],
      "text/plain": [
       "   id  views                                          appliesTo  \\\n",
       "0   1  58771         msoffice,Outlook,Windows 8,Office 365 Home   \n",
       "1   2    557           band,Microsoft Band,Microsoft Health app   \n",
       "2   3     78  bing,Bing Ads,Bing Ads customers,Account login...   \n",
       "3   4    119  bing,Bing Ads,Bing Ads customers,Universal Eve...   \n",
       "4   6   9041  bing,Maps,Sharing and social search results,Bi...   \n",
       "\n",
       "                                                 url language  \\\n",
       "0  http://answers.microsoft.com/en-us/office/foru...    en-us   \n",
       "1  https://answers.microsoft.com/en-us/band/forum...    en-us   \n",
       "2  https://answers.microsoft.com/en-us/bing/forum...    en-us   \n",
       "3  https://answers.microsoft.com/en-us/bing/forum...    en-us   \n",
       "4  https://answers.microsoft.com/en-us/bing/forum...    en-us   \n",
       "\n",
       "                                      question_title      question_author  \\\n",
       "0  Unable to delete emails - message: The operati...  ChristopherStringer   \n",
       "1           MS Band: An error occurred! on Dashboard         maciejkoplin   \n",
       "2  AddClientLinks API call fails with internal er...              JonOler   \n",
       "3       API WebFault deserialize parameter in Python           Joe Heffer   \n",
       "4             How do I import places into Bing Maps?           NeilBenson   \n",
       "\n",
       "    question_createdAt                                      question_text  \\\n",
       "0  2013-11-21T20:45:35  <p>I had problems updating from Windows 8 to W...   \n",
       "1  2017-08-05T16:27:22  <p>I have a strange problem with my Dashboard ...   \n",
       "2  2017-06-01T06:57:23  <p class=\"contentStandard\">I am attempting to ...   \n",
       "3  2017-11-07T17:09:27  <p>Hi all,</p><p></p><p>I have some working Py...   \n",
       "4  2014-07-14T19:16:09  <p>I have created a list of places in Google M...   \n",
       "\n",
       "   question_upvotes  answer_markedAsAnswer   answer_createdAt  \\\n",
       "0               387                   True  November 26, 2013   \n",
       "1                48                  False     August 5, 2017   \n",
       "2                 1                  False       June 1, 2017   \n",
       "3                 1                   True   November 7, 2017   \n",
       "4                56                   True      July 15, 2014   \n",
       "\n",
       "                                         answer_text  answer_upvotes  \\\n",
       "0   This fix will most likely solve your problems...             324   \n",
       "1  <p>Exactly the same issue both on my phone and...               0   \n",
       "2  <p>Hi Jon,</p><p></p><p>Your issue is more com...               0   \n",
       "3  <p>Hi Joe,</p><p></p><p><span style=\"color:#33...               0   \n",
       "4  <button class=\"thread-message-content-reply-ac...               0   \n",
       "\n",
       "                            cat    subcat  \\\n",
       "0               Office 365 Home  msoffice   \n",
       "1          Microsoft Health app      band   \n",
       "2                   permissions      bing   \n",
       "3                     reporting      bing   \n",
       "4  Bing.com for PC/Mac browsers      bing   \n",
       "\n",
       "                                                text  \n",
       "0  Unable to delete emails - message: The operati...  \n",
       "1           MS Band: An error occurred! on Dashboard  \n",
       "2  AddClientLinks API call fails with internal er...  \n",
       "3       API WebFault deserialize parameter in Python  \n",
       "4             How do I import places into Bing Maps?  "
      ]
     },
     "execution_count": 51,
     "metadata": {},
     "output_type": "execute_result"
    }
   ],
   "source": [
    "data.head()"
   ]
  },
  {
   "cell_type": "code",
   "execution_count": 117,
   "metadata": {},
   "outputs": [
    {
     "data": {
      "text/plain": [
       "6232"
      ]
     },
     "execution_count": 117,
     "metadata": {},
     "output_type": "execute_result"
    }
   ],
   "source": [
    "len(data[data.answer_markedAsAnswer == True])"
   ]
  },
  {
   "cell_type": "code",
   "execution_count": 127,
   "metadata": {},
   "outputs": [
    {
     "data": {
      "text/plain": [
       "[['Asdas'], ['asdasd', 'sad', 'asd'], ['Asd', 'ss', 'asda', 'asd']]"
      ]
     },
     "execution_count": 127,
     "metadata": {},
     "output_type": "execute_result"
    }
   ],
   "source": [
    "tt = ['Asdas', 'asdasd sad asd', 'Asd ss asda asd']\n",
    "[t.split(' ') for t in tt]"
   ]
  },
  {
   "cell_type": "code",
   "execution_count": 128,
   "metadata": {},
   "outputs": [
    {
     "ename": "KeyError",
     "evalue": "0",
     "output_type": "error",
     "traceback": [
      "\u001b[1;31m---------------------------------------------------------------------------\u001b[0m",
      "\u001b[1;31mKeyError\u001b[0m                                  Traceback (most recent call last)",
      "\u001b[1;32m<ipython-input-128-06a57fcc6078>\u001b[0m in \u001b[0;36m<module>\u001b[1;34m\u001b[0m\n\u001b[0;32m      5\u001b[0m     \u001b[1;36m4\u001b[0m \u001b[1;33m:\u001b[0m \u001b[1;34m'qa'\u001b[0m\u001b[1;33m\u001b[0m\u001b[1;33m\u001b[0m\u001b[0m\n\u001b[0;32m      6\u001b[0m  }\n\u001b[1;32m----> 7\u001b[1;33m \u001b[0mtask_type_lookup\u001b[0m\u001b[1;33m[\u001b[0m\u001b[1;36m0\u001b[0m\u001b[1;33m]\u001b[0m\u001b[1;33m\u001b[0m\u001b[1;33m\u001b[0m\u001b[0m\n\u001b[0m",
      "\u001b[1;31mKeyError\u001b[0m: 0"
     ]
    }
   ],
   "source": [
    "task_type_lookup = {\n",
    "    1 : 'classification',\n",
    "    2 : 'classification',\n",
    "    3 : 'ner',\n",
    "    4 : 'qa' \n",
    " }\n",
    "task_type_lookup[0]"
   ]
  },
  {
   "cell_type": "code",
   "execution_count": 129,
   "metadata": {},
   "outputs": [
    {
     "data": {
      "text/plain": [
       "'classification'"
      ]
     },
     "execution_count": 129,
     "metadata": {},
     "output_type": "execute_result"
    }
   ],
   "source": [
    "task_type_lookup[1]"
   ]
  },
  {
   "cell_type": "code",
   "execution_count": 115,
   "metadata": {},
   "outputs": [
    {
     "data": {
      "text/html": [
       "<div>\n",
       "<style scoped>\n",
       "    .dataframe tbody tr th:only-of-type {\n",
       "        vertical-align: middle;\n",
       "    }\n",
       "\n",
       "    .dataframe tbody tr th {\n",
       "        vertical-align: top;\n",
       "    }\n",
       "\n",
       "    .dataframe thead th {\n",
       "        text-align: right;\n",
       "    }\n",
       "</style>\n",
       "<table border=\"1\" class=\"dataframe\">\n",
       "  <thead>\n",
       "    <tr style=\"text-align: right;\">\n",
       "      <th></th>\n",
       "      <th>id</th>\n",
       "      <th>views</th>\n",
       "      <th>appliesTo</th>\n",
       "      <th>url</th>\n",
       "      <th>language</th>\n",
       "      <th>question_title</th>\n",
       "      <th>question_author</th>\n",
       "      <th>question_createdAt</th>\n",
       "      <th>question_text</th>\n",
       "      <th>question_upvotes</th>\n",
       "      <th>answer_markedAsAnswer</th>\n",
       "      <th>answer_createdAt</th>\n",
       "      <th>answer_text</th>\n",
       "      <th>answer_upvotes</th>\n",
       "      <th>cat</th>\n",
       "      <th>subcat</th>\n",
       "      <th>text</th>\n",
       "    </tr>\n",
       "  </thead>\n",
       "  <tbody>\n",
       "    <tr>\n",
       "      <th>0</th>\n",
       "      <td>1</td>\n",
       "      <td>58771</td>\n",
       "      <td>msoffice,Outlook,Windows 8,Office 365 Home</td>\n",
       "      <td>http://answers.microsoft.com/en-us/office/foru...</td>\n",
       "      <td>en-us</td>\n",
       "      <td>Unable to delete emails - message: The operati...</td>\n",
       "      <td>ChristopherStringer</td>\n",
       "      <td>2013-11-21T20:45:35</td>\n",
       "      <td>&lt;p&gt;I had problems updating from Windows 8 to W...</td>\n",
       "      <td>387</td>\n",
       "      <td>True</td>\n",
       "      <td>November 26, 2013</td>\n",
       "      <td>This fix will most likely solve your problems...</td>\n",
       "      <td>324</td>\n",
       "      <td>Office 365 Home</td>\n",
       "      <td>msoffice</td>\n",
       "      <td>Unable to delete emails - message: The operati...</td>\n",
       "    </tr>\n",
       "    <tr>\n",
       "      <th>24</th>\n",
       "      <td>31</td>\n",
       "      <td>404</td>\n",
       "      <td>ie,Internet Explorer 11,Windows 10</td>\n",
       "      <td>https://answers.microsoft.com/en-us/ie/forum/a...</td>\n",
       "      <td>en-us</td>\n",
       "      <td>Does IE11 Support HTML 4.01 (11.0.10240.16384)</td>\n",
       "      <td>themanindbox</td>\n",
       "      <td>2018-04-26T19:36:06</td>\n",
       "      <td>&lt;p&gt;Does IE11 on Windows 10 natively support HT...</td>\n",
       "      <td>3</td>\n",
       "      <td>False</td>\n",
       "      <td>April 26, 2018</td>\n",
       "      <td>&lt;p&gt;Hi,&lt;/p&gt;&lt;p&gt;&lt;/p&gt;&lt;p&gt;Tools&amp;gt;ActiveX filtering...</td>\n",
       "      <td>4</td>\n",
       "      <td>Windows 10</td>\n",
       "      <td>ie</td>\n",
       "      <td>Does IE11 Support HTML  PTI  ( PTI .102 PTI 384)</td>\n",
       "    </tr>\n",
       "    <tr>\n",
       "      <th>53</th>\n",
       "      <td>62</td>\n",
       "      <td>31609</td>\n",
       "      <td>ie,Internet Explorer 10,Windows 7</td>\n",
       "      <td>https://answers.microsoft.com/en-us/ie/forum/i...</td>\n",
       "      <td>en-us</td>\n",
       "      <td>Enabling cookies in Internet Explorer 10</td>\n",
       "      <td>Aaron Jacob</td>\n",
       "      <td>2013-08-16T17:21:45</td>\n",
       "      <td>Hi. I have Internet Explorer 10 on Windows 7....</td>\n",
       "      <td>423</td>\n",
       "      <td>True</td>\n",
       "      <td>August 16, 2013</td>\n",
       "      <td>&lt;p&gt;Go back to Internet options/ Security secti...</td>\n",
       "      <td>82</td>\n",
       "      <td>Windows 7</td>\n",
       "      <td>ie</td>\n",
       "      <td>Enabling cookies in Internet Explorer 10</td>\n",
       "    </tr>\n",
       "    <tr>\n",
       "      <th>54</th>\n",
       "      <td>63</td>\n",
       "      <td>66795</td>\n",
       "      <td>ie,Internet Explorer 10,Windows 7</td>\n",
       "      <td>https://answers.microsoft.com/en-us/ie/forum/i...</td>\n",
       "      <td>en-us</td>\n",
       "      <td>How do I delete cookies and cache in IE 10 Win...</td>\n",
       "      <td>jprewitt</td>\n",
       "      <td>2013-04-19T16:18:09</td>\n",
       "      <td>&lt;p&gt;I have several users asking how can they de...</td>\n",
       "      <td>207</td>\n",
       "      <td>True</td>\n",
       "      <td>April 19, 2013</td>\n",
       "      <td>&lt;p&gt;1. Click on the Tools \"cog\" in the top righ...</td>\n",
       "      <td>24</td>\n",
       "      <td>Windows 7</td>\n",
       "      <td>ie</td>\n",
       "      <td>How do I delete cookies and cache in IE PNS Wi...</td>\n",
       "    </tr>\n",
       "    <tr>\n",
       "      <th>58</th>\n",
       "      <td>67</td>\n",
       "      <td>3202</td>\n",
       "      <td>ie,Internet Explorer 10,Windows 7</td>\n",
       "      <td>https://answers.microsoft.com/en-us/ie/forum/i...</td>\n",
       "      <td>en-us</td>\n",
       "      <td>Multiple error messages on my IE 10.  I have W...</td>\n",
       "      <td>Lois Lannin</td>\n",
       "      <td>2013-04-07T15:19:38</td>\n",
       "      <td>&lt;p&gt;I am receiving multiple error messages on a...</td>\n",
       "      <td>7</td>\n",
       "      <td>True</td>\n",
       "      <td>April 8, 2013</td>\n",
       "      <td>&lt;p&gt;Hi,&lt;/p&gt;&lt;p&gt; &lt;/p&gt;&lt;p&gt;Based on the description,...</td>\n",
       "      <td>3</td>\n",
       "      <td>Windows 7</td>\n",
       "      <td>ie</td>\n",
       "      <td>Multiple error messages on my IE 10.  I have W...</td>\n",
       "    </tr>\n",
       "  </tbody>\n",
       "</table>\n",
       "</div>"
      ],
      "text/plain": [
       "    id  views                                   appliesTo  \\\n",
       "0    1  58771  msoffice,Outlook,Windows 8,Office 365 Home   \n",
       "24  31    404          ie,Internet Explorer 11,Windows 10   \n",
       "53  62  31609           ie,Internet Explorer 10,Windows 7   \n",
       "54  63  66795           ie,Internet Explorer 10,Windows 7   \n",
       "58  67   3202           ie,Internet Explorer 10,Windows 7   \n",
       "\n",
       "                                                  url language  \\\n",
       "0   http://answers.microsoft.com/en-us/office/foru...    en-us   \n",
       "24  https://answers.microsoft.com/en-us/ie/forum/a...    en-us   \n",
       "53  https://answers.microsoft.com/en-us/ie/forum/i...    en-us   \n",
       "54  https://answers.microsoft.com/en-us/ie/forum/i...    en-us   \n",
       "58  https://answers.microsoft.com/en-us/ie/forum/i...    en-us   \n",
       "\n",
       "                                       question_title      question_author  \\\n",
       "0   Unable to delete emails - message: The operati...  ChristopherStringer   \n",
       "24     Does IE11 Support HTML 4.01 (11.0.10240.16384)         themanindbox   \n",
       "53           Enabling cookies in Internet Explorer 10          Aaron Jacob   \n",
       "54  How do I delete cookies and cache in IE 10 Win...             jprewitt   \n",
       "58  Multiple error messages on my IE 10.  I have W...          Lois Lannin   \n",
       "\n",
       "     question_createdAt                                      question_text  \\\n",
       "0   2013-11-21T20:45:35  <p>I had problems updating from Windows 8 to W...   \n",
       "24  2018-04-26T19:36:06  <p>Does IE11 on Windows 10 natively support HT...   \n",
       "53  2013-08-16T17:21:45   Hi. I have Internet Explorer 10 on Windows 7....   \n",
       "54  2013-04-19T16:18:09  <p>I have several users asking how can they de...   \n",
       "58  2013-04-07T15:19:38  <p>I am receiving multiple error messages on a...   \n",
       "\n",
       "    question_upvotes  answer_markedAsAnswer   answer_createdAt  \\\n",
       "0                387                   True  November 26, 2013   \n",
       "24                 3                  False     April 26, 2018   \n",
       "53               423                   True    August 16, 2013   \n",
       "54               207                   True     April 19, 2013   \n",
       "58                 7                   True      April 8, 2013   \n",
       "\n",
       "                                          answer_text  answer_upvotes  \\\n",
       "0    This fix will most likely solve your problems...             324   \n",
       "24  <p>Hi,</p><p></p><p>Tools&gt;ActiveX filtering...               4   \n",
       "53  <p>Go back to Internet options/ Security secti...              82   \n",
       "54  <p>1. Click on the Tools \"cog\" in the top righ...              24   \n",
       "58  <p>Hi,</p><p> </p><p>Based on the description,...               3   \n",
       "\n",
       "                cat    subcat  \\\n",
       "0   Office 365 Home  msoffice   \n",
       "24       Windows 10        ie   \n",
       "53        Windows 7        ie   \n",
       "54        Windows 7        ie   \n",
       "58        Windows 7        ie   \n",
       "\n",
       "                                                 text  \n",
       "0   Unable to delete emails - message: The operati...  \n",
       "24   Does IE11 Support HTML  PTI  ( PTI .102 PTI 384)  \n",
       "53           Enabling cookies in Internet Explorer 10  \n",
       "54  How do I delete cookies and cache in IE PNS Wi...  \n",
       "58  Multiple error messages on my IE 10.  I have W...  "
      ]
     },
     "execution_count": 115,
     "metadata": {},
     "output_type": "execute_result"
    }
   ],
   "source": [
    "data[data.answer_upvotes > 1].head()"
   ]
  },
  {
   "cell_type": "code",
   "execution_count": 113,
   "metadata": {},
   "outputs": [
    {
     "data": {
      "text/plain": [
       "9533"
      ]
     },
     "execution_count": 113,
     "metadata": {},
     "output_type": "execute_result"
    }
   ],
   "source": [
    "len(data)"
   ]
  },
  {
   "cell_type": "code",
   "execution_count": 78,
   "metadata": {},
   "outputs": [
    {
     "name": "stderr",
     "output_type": "stream",
     "text": [
      "C:\\Users\\makayser\\AppData\\Local\\Continuum\\anaconda3\\envs\\nlp\\lib\\site-packages\\ipykernel_launcher.py:2: SettingWithCopyWarning: \n",
      "A value is trying to be set on a copy of a slice from a DataFrame.\n",
      "Try using .loc[row_indexer,col_indexer] = value instead\n",
      "\n",
      "See the caveats in the documentation: http://pandas.pydata.org/pandas-docs/stable/user_guide/indexing.html#returning-a-view-versus-a-copy\n",
      "  \n",
      "C:\\Users\\makayser\\AppData\\Local\\Continuum\\anaconda3\\envs\\nlp\\lib\\site-packages\\ipykernel_launcher.py:3: SettingWithCopyWarning: \n",
      "A value is trying to be set on a copy of a slice from a DataFrame.\n",
      "Try using .loc[row_indexer,col_indexer] = value instead\n",
      "\n",
      "See the caveats in the documentation: http://pandas.pydata.org/pandas-docs/stable/user_guide/indexing.html#returning-a-view-versus-a-copy\n",
      "  This is separate from the ipykernel package so we can avoid doing imports until\n"
     ]
    },
    {
     "data": {
      "text/plain": [
       "7751"
      ]
     },
     "execution_count": 78,
     "metadata": {},
     "output_type": "execute_result"
    }
   ],
   "source": [
    "data_red = data.drop_duplicates(subset=['text'])\n",
    "data_red['text'] = data_red.text.replace('\\t',' ',regex=True).replace('\"','').replace(\"'\",' ').replace('\\n',' ',regex=True)\n",
    "data_red['subcat'] = data_red.subcat.replace('\\t',' ',regex=True).replace('\"','').replace(\"'\",' ').replace('\\n',' ',regex=True)\n",
    "len(data_red)"
   ]
  },
  {
   "cell_type": "code",
   "execution_count": 79,
   "metadata": {},
   "outputs": [],
   "source": [
    "# data_red['subcat'] = data_red.subcat.str.replace(r'\\D', '')\n",
    "# data_red['text'] = data_red.text.str.replace(r'\\D', '')"
   ]
  },
  {
   "cell_type": "code",
   "execution_count": 80,
   "metadata": {},
   "outputs": [
    {
     "data": {
      "text/plain": [
       "windows          5670\n",
       "msoffice         1227\n",
       "windowslive       317\n",
       "ie                175\n",
       "outlook_com       134\n",
       "mobiledevices      92\n",
       "insider            44\n",
       "edge               23\n",
       "protect            22\n",
       "surface            16\n",
       "skype              13\n",
       "bing                6\n",
       "feedback            5\n",
       "newmsn              4\n",
       "education_ms        1\n",
       "musicandvideo       1\n",
       "band                1\n",
       "Name: subcat, dtype: int64"
      ]
     },
     "execution_count": 80,
     "metadata": {},
     "output_type": "execute_result"
    }
   ],
   "source": [
    "data_red.subcat.value_counts()"
   ]
  },
  {
   "cell_type": "code",
   "execution_count": 95,
   "metadata": {},
   "outputs": [
    {
     "data": {
      "text/plain": [
       "windows          5670\n",
       "msoffice         1227\n",
       "windowslive       317\n",
       "ie                175\n",
       "outlook_com       134\n",
       "mobiledevices      92\n",
       "insider            44\n",
       "edge               23\n",
       "protect            22\n",
       "surface            16\n",
       "Name: subcat, dtype: int64"
      ]
     },
     "execution_count": 95,
     "metadata": {},
     "output_type": "execute_result"
    }
   ],
   "source": [
    "tt = data_red[data_red.groupby('subcat').subcat.transform('size') > 14]\n",
    "tt.subcat.value_counts()"
   ]
  },
  {
   "cell_type": "code",
   "execution_count": 104,
   "metadata": {},
   "outputs": [
    {
     "data": {
      "text/html": [
       "<div>\n",
       "<style scoped>\n",
       "    .dataframe tbody tr th:only-of-type {\n",
       "        vertical-align: middle;\n",
       "    }\n",
       "\n",
       "    .dataframe tbody tr th {\n",
       "        vertical-align: top;\n",
       "    }\n",
       "\n",
       "    .dataframe thead th {\n",
       "        text-align: right;\n",
       "    }\n",
       "</style>\n",
       "<table border=\"1\" class=\"dataframe\">\n",
       "  <thead>\n",
       "    <tr style=\"text-align: right;\">\n",
       "      <th></th>\n",
       "      <th>subcat</th>\n",
       "    </tr>\n",
       "  </thead>\n",
       "  <tbody>\n",
       "    <tr>\n",
       "      <th>0</th>\n",
       "      <td>msoffice</td>\n",
       "    </tr>\n",
       "    <tr>\n",
       "      <th>8</th>\n",
       "      <td>edge</td>\n",
       "    </tr>\n",
       "    <tr>\n",
       "      <th>22</th>\n",
       "      <td>ie</td>\n",
       "    </tr>\n",
       "    <tr>\n",
       "      <th>175</th>\n",
       "      <td>windows</td>\n",
       "    </tr>\n",
       "    <tr>\n",
       "      <th>217</th>\n",
       "      <td>insider</td>\n",
       "    </tr>\n",
       "    <tr>\n",
       "      <th>302</th>\n",
       "      <td>mobiledevices</td>\n",
       "    </tr>\n",
       "    <tr>\n",
       "      <th>968</th>\n",
       "      <td>outlook_com</td>\n",
       "    </tr>\n",
       "    <tr>\n",
       "      <th>2221</th>\n",
       "      <td>protect</td>\n",
       "    </tr>\n",
       "    <tr>\n",
       "      <th>2244</th>\n",
       "      <td>skype</td>\n",
       "    </tr>\n",
       "    <tr>\n",
       "      <th>2264</th>\n",
       "      <td>surface</td>\n",
       "    </tr>\n",
       "    <tr>\n",
       "      <th>5800</th>\n",
       "      <td>windowslive</td>\n",
       "    </tr>\n",
       "  </tbody>\n",
       "</table>\n",
       "</div>"
      ],
      "text/plain": [
       "             subcat\n",
       "0          msoffice\n",
       "8              edge\n",
       "22               ie\n",
       "175         windows\n",
       "217         insider\n",
       "302   mobiledevices\n",
       "968     outlook_com\n",
       "2221        protect\n",
       "2244          skype\n",
       "2264        surface\n",
       "5800    windowslive"
      ]
     },
     "execution_count": 104,
     "metadata": {},
     "output_type": "execute_result"
    }
   ],
   "source": [
    "pd.DataFrame(data_red.subcat.drop_duplicates())"
   ]
  },
  {
   "cell_type": "code",
   "execution_count": 108,
   "metadata": {},
   "outputs": [
    {
     "data": {
      "text/plain": [
       "['band', 'education_ms', 'newmsn', 'musicandvideo', 'bing', 'feedback']"
      ]
     },
     "execution_count": 108,
     "metadata": {},
     "output_type": "execute_result"
    }
   ],
   "source": [
    "list(set(data.subcat.drop_duplicates()) - set(data_red.subcat.drop_duplicates()))"
   ]
  },
  {
   "cell_type": "code",
   "execution_count": 81,
   "metadata": {},
   "outputs": [
    {
     "data": {
      "text/plain": [
       "['msoffice',\n",
       " 'band',\n",
       " 'bing',\n",
       " 'edge',\n",
       " 'feedback',\n",
       " 'ie',\n",
       " 'windows',\n",
       " 'insider',\n",
       " 'mobiledevices',\n",
       " 'education_ms',\n",
       " 'outlook_com',\n",
       " 'musicandvideo',\n",
       " 'newmsn',\n",
       " 'protect',\n",
       " 'skype',\n",
       " 'surface',\n",
       " 'windowslive']"
      ]
     },
     "execution_count": 81,
     "metadata": {},
     "output_type": "execute_result"
    }
   ],
   "source": [
    "list(data_red.subcat.drop_duplicates())"
   ]
  },
  {
   "cell_type": "code",
   "execution_count": 82,
   "metadata": {},
   "outputs": [
    {
     "data": {
      "text/plain": [
       "7733"
      ]
     },
     "execution_count": 82,
     "metadata": {},
     "output_type": "execute_result"
    }
   ],
   "source": [
    "data_red = data_red[data_red.subcat.isin(['msoffice',\n",
    "    'edge',\n",
    " 'ie',\n",
    " 'windows',\n",
    " 'insider',\n",
    " 'mobiledevices',\n",
    " 'outlook_com',\n",
    " 'protect',\n",
    " 'skype',\n",
    " 'surface',\n",
    " 'windowslive'])].copy()\n",
    "len(data_red)"
   ]
  },
  {
   "cell_type": "code",
   "execution_count": 83,
   "metadata": {},
   "outputs": [],
   "source": [
    "data_red[['text','subcat']].head(6000).reset_index(drop=True).to_csv(he.get_config()['path']['sample_dir'] + 'train.txt', sep='\\t', encoding='utf-8', index=False)"
   ]
  },
  {
   "cell_type": "code",
   "execution_count": 84,
   "metadata": {},
   "outputs": [],
   "source": [
    "data_red[['text','subcat']].tail(7733-6000).reset_index(drop=True).to_csv(he.get_config()['path']['sample_dir'] + 'test.txt', sep='\\t', encoding='utf-8', index=False)"
   ]
  }
 ],
 "metadata": {
  "kernelspec": {
   "display_name": "nlp",
   "language": "python",
   "name": "nlp"
  },
  "language_info": {
   "codemirror_mode": {
    "name": "ipython",
    "version": 3
   },
   "file_extension": ".py",
   "mimetype": "text/x-python",
   "name": "python",
   "nbconvert_exporter": "python",
   "pygments_lexer": "ipython3",
   "version": "3.6.9"
  }
 },
 "nbformat": 4,
 "nbformat_minor": 2
}
